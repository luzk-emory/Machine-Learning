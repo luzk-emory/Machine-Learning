{
 "cells": [
  {
   "cell_type": "markdown",
   "metadata": {},
   "source": [
    "# Project: Identify Customer Segments\n",
    "\n",
    "In this project, you will apply unsupervised learning techniques to identify segments of the population that form the core customer base for a mail-order sales company in Germany. These segments can then be used to direct marketing campaigns towards audiences that will have the highest expected rate of returns. The data that you will use has been provided by our partners at Bertelsmann Arvato Analytics, and represents a real-life data science task.\n",
    "\n",
    "This notebook will help you complete this task by providing a framework within which you will perform your analysis steps. In each step of the project, you will see some text describing the subtask that you will perform, followed by one or more code cells for you to complete your work. **Feel free to add additional code and markdown cells as you go along so that you can explore everything in precise chunks.** The code cells provided in the base template will outline only the major tasks, and will usually not be enough to cover all of the minor tasks that comprise it.\n",
    "\n",
    "It should be noted that while there will be precise guidelines on how you should handle certain tasks in the project, there will also be places where an exact specification is not provided. **There will be times in the project where you will need to make and justify your own decisions on how to treat the data.** These are places where there may not be only one way to handle the data. In real-life tasks, there may be many valid ways to approach an analysis task. One of the most important things you can do is clearly document your approach so that other scientists can understand the decisions you've made.\n",
    "\n",
    "At the end of most sections, there will be a Markdown cell labeled **Discussion**. In these cells, you will report your findings for the completed section, as well as document the decisions that you made in your approach to each subtask. **Your project will be evaluated not just on the code used to complete the tasks outlined, but also your communication about your observations and conclusions at each stage.**"
   ]
  },
  {
   "cell_type": "code",
   "execution_count": 3,
   "metadata": {},
   "outputs": [
    {
     "data": {
      "text/plain": [
       "'\\nImport note: The classroom currently uses sklearn version 0.19.\\nIf you need to use an imputer, it is available in sklearn.preprocessing.Imputer,\\ninstead of sklearn.impute as in newer versions of sklearn.\\n'"
      ]
     },
     "execution_count": 3,
     "metadata": {},
     "output_type": "execute_result"
    }
   ],
   "source": [
    "# import libraries here; add more as necessary\n",
    "import numpy as np\n",
    "import pandas as pd\n",
    "import matplotlib.pyplot as plt\n",
    "import seaborn as sb\n",
    "\n",
    "from sklearn.preprocessing import StandardScaler, Imputer\n",
    "from sklearn.decomposition import PCA\n",
    "from sklearn.cluster import KMeans\n",
    "\n",
    "# magic word for producing visualizations in notebook\n",
    "%matplotlib inline\n",
    "\n",
    "'''\n",
    "Import note: The classroom currently uses sklearn version 0.19.\n",
    "If you need to use an imputer, it is available in sklearn.preprocessing.Imputer,\n",
    "instead of sklearn.impute as in newer versions of sklearn.\n",
    "'''"
   ]
  },
  {
   "cell_type": "markdown",
   "metadata": {},
   "source": [
    "### Step 0: Load the Data\n",
    "\n",
    "There are four files associated with this project (not including this one):\n",
    "\n",
    "- `Udacity_AZDIAS_Subset.csv`: Demographics data for the general population of Germany; 891211 persons (rows) x 85 features (columns).\n",
    "- `Udacity_CUSTOMERS_Subset.csv`: Demographics data for customers of a mail-order company; 191652 persons (rows) x 85 features (columns).\n",
    "- `Data_Dictionary.md`: Detailed information file about the features in the provided datasets.\n",
    "- `AZDIAS_Feature_Summary.csv`: Summary of feature attributes for demographics data; 85 features (rows) x 4 columns\n",
    "\n",
    "Each row of the demographics files represents a single person, but also includes information outside of individuals, including information about their household, building, and neighborhood. You will use this information to cluster the general population into groups with similar demographic properties. Then, you will see how the people in the customers dataset fit into those created clusters. The hope here is that certain clusters are over-represented in the customers data, as compared to the general population; those over-represented clusters will be assumed to be part of the core userbase. This information can then be used for further applications, such as targeting for a marketing campaign.\n",
    "\n",
    "To start off with, load in the demographics data for the general population into a pandas DataFrame, and do the same for the feature attributes summary. Note for all of the `.csv` data files in this project: they're semicolon (`;`) delimited, so you'll need an additional argument in your [`read_csv()`](https://pandas.pydata.org/pandas-docs/stable/generated/pandas.read_csv.html) call to read in the data properly. Also, considering the size of the main dataset, it may take some time for it to load completely.\n",
    "\n",
    "Once the dataset is loaded, it's recommended that you take a little bit of time just browsing the general structure of the dataset and feature summary file. You'll be getting deep into the innards of the cleaning in the first major step of the project, so gaining some general familiarity can help you get your bearings."
   ]
  },
  {
   "cell_type": "code",
   "execution_count": 4,
   "metadata": {},
   "outputs": [],
   "source": [
    "# Load in the general demographics data.\n",
    "azdias = pd.read_csv('Udacity_AZDIAS_Subset.csv', sep = ';')\n",
    "\n",
    "# Load in the feature summary file.\n",
    "feat_info = pd.read_csv('AZDIAS_Feature_Summary.csv', sep = ';')"
   ]
  },
  {
   "cell_type": "code",
   "execution_count": 5,
   "metadata": {},
   "outputs": [
    {
     "name": "stdout",
     "output_type": "stream",
     "text": [
      "(891221, 85)\n"
     ]
    },
    {
     "data": {
      "text/html": [
       "<div>\n",
       "<style scoped>\n",
       "    .dataframe tbody tr th:only-of-type {\n",
       "        vertical-align: middle;\n",
       "    }\n",
       "\n",
       "    .dataframe tbody tr th {\n",
       "        vertical-align: top;\n",
       "    }\n",
       "\n",
       "    .dataframe thead th {\n",
       "        text-align: right;\n",
       "    }\n",
       "</style>\n",
       "<table border=\"1\" class=\"dataframe\">\n",
       "  <thead>\n",
       "    <tr style=\"text-align: right;\">\n",
       "      <th></th>\n",
       "      <th>AGER_TYP</th>\n",
       "      <th>ALTERSKATEGORIE_GROB</th>\n",
       "      <th>ANREDE_KZ</th>\n",
       "      <th>CJT_GESAMTTYP</th>\n",
       "      <th>FINANZ_MINIMALIST</th>\n",
       "      <th>FINANZ_SPARER</th>\n",
       "      <th>FINANZ_VORSORGER</th>\n",
       "      <th>FINANZ_ANLEGER</th>\n",
       "      <th>FINANZ_UNAUFFAELLIGER</th>\n",
       "      <th>FINANZ_HAUSBAUER</th>\n",
       "      <th>...</th>\n",
       "      <th>PLZ8_ANTG1</th>\n",
       "      <th>PLZ8_ANTG2</th>\n",
       "      <th>PLZ8_ANTG3</th>\n",
       "      <th>PLZ8_ANTG4</th>\n",
       "      <th>PLZ8_BAUMAX</th>\n",
       "      <th>PLZ8_HHZ</th>\n",
       "      <th>PLZ8_GBZ</th>\n",
       "      <th>ARBEIT</th>\n",
       "      <th>ORTSGR_KLS9</th>\n",
       "      <th>RELAT_AB</th>\n",
       "    </tr>\n",
       "  </thead>\n",
       "  <tbody>\n",
       "    <tr>\n",
       "      <th>0</th>\n",
       "      <td>-1</td>\n",
       "      <td>2</td>\n",
       "      <td>1</td>\n",
       "      <td>2.0</td>\n",
       "      <td>3</td>\n",
       "      <td>4</td>\n",
       "      <td>3</td>\n",
       "      <td>5</td>\n",
       "      <td>5</td>\n",
       "      <td>3</td>\n",
       "      <td>...</td>\n",
       "      <td>NaN</td>\n",
       "      <td>NaN</td>\n",
       "      <td>NaN</td>\n",
       "      <td>NaN</td>\n",
       "      <td>NaN</td>\n",
       "      <td>NaN</td>\n",
       "      <td>NaN</td>\n",
       "      <td>NaN</td>\n",
       "      <td>NaN</td>\n",
       "      <td>NaN</td>\n",
       "    </tr>\n",
       "    <tr>\n",
       "      <th>1</th>\n",
       "      <td>-1</td>\n",
       "      <td>1</td>\n",
       "      <td>2</td>\n",
       "      <td>5.0</td>\n",
       "      <td>1</td>\n",
       "      <td>5</td>\n",
       "      <td>2</td>\n",
       "      <td>5</td>\n",
       "      <td>4</td>\n",
       "      <td>5</td>\n",
       "      <td>...</td>\n",
       "      <td>2.0</td>\n",
       "      <td>3.0</td>\n",
       "      <td>2.0</td>\n",
       "      <td>1.0</td>\n",
       "      <td>1.0</td>\n",
       "      <td>5.0</td>\n",
       "      <td>4.0</td>\n",
       "      <td>3.0</td>\n",
       "      <td>5.0</td>\n",
       "      <td>4.0</td>\n",
       "    </tr>\n",
       "    <tr>\n",
       "      <th>2</th>\n",
       "      <td>-1</td>\n",
       "      <td>3</td>\n",
       "      <td>2</td>\n",
       "      <td>3.0</td>\n",
       "      <td>1</td>\n",
       "      <td>4</td>\n",
       "      <td>1</td>\n",
       "      <td>2</td>\n",
       "      <td>3</td>\n",
       "      <td>5</td>\n",
       "      <td>...</td>\n",
       "      <td>3.0</td>\n",
       "      <td>3.0</td>\n",
       "      <td>1.0</td>\n",
       "      <td>0.0</td>\n",
       "      <td>1.0</td>\n",
       "      <td>4.0</td>\n",
       "      <td>4.0</td>\n",
       "      <td>3.0</td>\n",
       "      <td>5.0</td>\n",
       "      <td>2.0</td>\n",
       "    </tr>\n",
       "    <tr>\n",
       "      <th>3</th>\n",
       "      <td>2</td>\n",
       "      <td>4</td>\n",
       "      <td>2</td>\n",
       "      <td>2.0</td>\n",
       "      <td>4</td>\n",
       "      <td>2</td>\n",
       "      <td>5</td>\n",
       "      <td>2</td>\n",
       "      <td>1</td>\n",
       "      <td>2</td>\n",
       "      <td>...</td>\n",
       "      <td>2.0</td>\n",
       "      <td>2.0</td>\n",
       "      <td>2.0</td>\n",
       "      <td>0.0</td>\n",
       "      <td>1.0</td>\n",
       "      <td>3.0</td>\n",
       "      <td>4.0</td>\n",
       "      <td>2.0</td>\n",
       "      <td>3.0</td>\n",
       "      <td>3.0</td>\n",
       "    </tr>\n",
       "    <tr>\n",
       "      <th>4</th>\n",
       "      <td>-1</td>\n",
       "      <td>3</td>\n",
       "      <td>1</td>\n",
       "      <td>5.0</td>\n",
       "      <td>4</td>\n",
       "      <td>3</td>\n",
       "      <td>4</td>\n",
       "      <td>1</td>\n",
       "      <td>3</td>\n",
       "      <td>2</td>\n",
       "      <td>...</td>\n",
       "      <td>2.0</td>\n",
       "      <td>4.0</td>\n",
       "      <td>2.0</td>\n",
       "      <td>1.0</td>\n",
       "      <td>2.0</td>\n",
       "      <td>3.0</td>\n",
       "      <td>3.0</td>\n",
       "      <td>4.0</td>\n",
       "      <td>6.0</td>\n",
       "      <td>5.0</td>\n",
       "    </tr>\n",
       "  </tbody>\n",
       "</table>\n",
       "<p>5 rows × 85 columns</p>\n",
       "</div>"
      ],
      "text/plain": [
       "   AGER_TYP  ALTERSKATEGORIE_GROB  ANREDE_KZ  CJT_GESAMTTYP  \\\n",
       "0        -1                     2          1            2.0   \n",
       "1        -1                     1          2            5.0   \n",
       "2        -1                     3          2            3.0   \n",
       "3         2                     4          2            2.0   \n",
       "4        -1                     3          1            5.0   \n",
       "\n",
       "   FINANZ_MINIMALIST  FINANZ_SPARER  FINANZ_VORSORGER  FINANZ_ANLEGER  \\\n",
       "0                  3              4                 3               5   \n",
       "1                  1              5                 2               5   \n",
       "2                  1              4                 1               2   \n",
       "3                  4              2                 5               2   \n",
       "4                  4              3                 4               1   \n",
       "\n",
       "   FINANZ_UNAUFFAELLIGER  FINANZ_HAUSBAUER    ...     PLZ8_ANTG1  PLZ8_ANTG2  \\\n",
       "0                      5                 3    ...            NaN         NaN   \n",
       "1                      4                 5    ...            2.0         3.0   \n",
       "2                      3                 5    ...            3.0         3.0   \n",
       "3                      1                 2    ...            2.0         2.0   \n",
       "4                      3                 2    ...            2.0         4.0   \n",
       "\n",
       "   PLZ8_ANTG3  PLZ8_ANTG4  PLZ8_BAUMAX  PLZ8_HHZ  PLZ8_GBZ  ARBEIT  \\\n",
       "0         NaN         NaN          NaN       NaN       NaN     NaN   \n",
       "1         2.0         1.0          1.0       5.0       4.0     3.0   \n",
       "2         1.0         0.0          1.0       4.0       4.0     3.0   \n",
       "3         2.0         0.0          1.0       3.0       4.0     2.0   \n",
       "4         2.0         1.0          2.0       3.0       3.0     4.0   \n",
       "\n",
       "   ORTSGR_KLS9  RELAT_AB  \n",
       "0          NaN       NaN  \n",
       "1          5.0       4.0  \n",
       "2          5.0       2.0  \n",
       "3          3.0       3.0  \n",
       "4          6.0       5.0  \n",
       "\n",
       "[5 rows x 85 columns]"
      ]
     },
     "execution_count": 5,
     "metadata": {},
     "output_type": "execute_result"
    }
   ],
   "source": [
    "# Check the structure of the data after it's loaded (e.g. print the number of\n",
    "# rows and columns, print the first few rows).\n",
    "print(azdias.shape)\n",
    "azdias.head()"
   ]
  },
  {
   "cell_type": "code",
   "execution_count": 6,
   "metadata": {
    "scrolled": false
   },
   "outputs": [
    {
     "name": "stdout",
     "output_type": "stream",
     "text": [
      "(85, 4)\n"
     ]
    },
    {
     "data": {
      "text/html": [
       "<div>\n",
       "<style scoped>\n",
       "    .dataframe tbody tr th:only-of-type {\n",
       "        vertical-align: middle;\n",
       "    }\n",
       "\n",
       "    .dataframe tbody tr th {\n",
       "        vertical-align: top;\n",
       "    }\n",
       "\n",
       "    .dataframe thead th {\n",
       "        text-align: right;\n",
       "    }\n",
       "</style>\n",
       "<table border=\"1\" class=\"dataframe\">\n",
       "  <thead>\n",
       "    <tr style=\"text-align: right;\">\n",
       "      <th></th>\n",
       "      <th>attribute</th>\n",
       "      <th>information_level</th>\n",
       "      <th>type</th>\n",
       "      <th>missing_or_unknown</th>\n",
       "    </tr>\n",
       "  </thead>\n",
       "  <tbody>\n",
       "    <tr>\n",
       "      <th>0</th>\n",
       "      <td>AGER_TYP</td>\n",
       "      <td>person</td>\n",
       "      <td>categorical</td>\n",
       "      <td>[-1,0]</td>\n",
       "    </tr>\n",
       "    <tr>\n",
       "      <th>1</th>\n",
       "      <td>ALTERSKATEGORIE_GROB</td>\n",
       "      <td>person</td>\n",
       "      <td>ordinal</td>\n",
       "      <td>[-1,0,9]</td>\n",
       "    </tr>\n",
       "    <tr>\n",
       "      <th>2</th>\n",
       "      <td>ANREDE_KZ</td>\n",
       "      <td>person</td>\n",
       "      <td>categorical</td>\n",
       "      <td>[-1,0]</td>\n",
       "    </tr>\n",
       "    <tr>\n",
       "      <th>3</th>\n",
       "      <td>CJT_GESAMTTYP</td>\n",
       "      <td>person</td>\n",
       "      <td>categorical</td>\n",
       "      <td>[0]</td>\n",
       "    </tr>\n",
       "    <tr>\n",
       "      <th>4</th>\n",
       "      <td>FINANZ_MINIMALIST</td>\n",
       "      <td>person</td>\n",
       "      <td>ordinal</td>\n",
       "      <td>[-1]</td>\n",
       "    </tr>\n",
       "    <tr>\n",
       "      <th>5</th>\n",
       "      <td>FINANZ_SPARER</td>\n",
       "      <td>person</td>\n",
       "      <td>ordinal</td>\n",
       "      <td>[-1]</td>\n",
       "    </tr>\n",
       "    <tr>\n",
       "      <th>6</th>\n",
       "      <td>FINANZ_VORSORGER</td>\n",
       "      <td>person</td>\n",
       "      <td>ordinal</td>\n",
       "      <td>[-1]</td>\n",
       "    </tr>\n",
       "    <tr>\n",
       "      <th>7</th>\n",
       "      <td>FINANZ_ANLEGER</td>\n",
       "      <td>person</td>\n",
       "      <td>ordinal</td>\n",
       "      <td>[-1]</td>\n",
       "    </tr>\n",
       "    <tr>\n",
       "      <th>8</th>\n",
       "      <td>FINANZ_UNAUFFAELLIGER</td>\n",
       "      <td>person</td>\n",
       "      <td>ordinal</td>\n",
       "      <td>[-1]</td>\n",
       "    </tr>\n",
       "    <tr>\n",
       "      <th>9</th>\n",
       "      <td>FINANZ_HAUSBAUER</td>\n",
       "      <td>person</td>\n",
       "      <td>ordinal</td>\n",
       "      <td>[-1]</td>\n",
       "    </tr>\n",
       "    <tr>\n",
       "      <th>10</th>\n",
       "      <td>FINANZTYP</td>\n",
       "      <td>person</td>\n",
       "      <td>categorical</td>\n",
       "      <td>[-1]</td>\n",
       "    </tr>\n",
       "    <tr>\n",
       "      <th>11</th>\n",
       "      <td>GEBURTSJAHR</td>\n",
       "      <td>person</td>\n",
       "      <td>numeric</td>\n",
       "      <td>[0]</td>\n",
       "    </tr>\n",
       "    <tr>\n",
       "      <th>12</th>\n",
       "      <td>GFK_URLAUBERTYP</td>\n",
       "      <td>person</td>\n",
       "      <td>categorical</td>\n",
       "      <td>[]</td>\n",
       "    </tr>\n",
       "    <tr>\n",
       "      <th>13</th>\n",
       "      <td>GREEN_AVANTGARDE</td>\n",
       "      <td>person</td>\n",
       "      <td>categorical</td>\n",
       "      <td>[]</td>\n",
       "    </tr>\n",
       "    <tr>\n",
       "      <th>14</th>\n",
       "      <td>HEALTH_TYP</td>\n",
       "      <td>person</td>\n",
       "      <td>ordinal</td>\n",
       "      <td>[-1,0]</td>\n",
       "    </tr>\n",
       "    <tr>\n",
       "      <th>15</th>\n",
       "      <td>LP_LEBENSPHASE_FEIN</td>\n",
       "      <td>person</td>\n",
       "      <td>mixed</td>\n",
       "      <td>[0]</td>\n",
       "    </tr>\n",
       "    <tr>\n",
       "      <th>16</th>\n",
       "      <td>LP_LEBENSPHASE_GROB</td>\n",
       "      <td>person</td>\n",
       "      <td>mixed</td>\n",
       "      <td>[0]</td>\n",
       "    </tr>\n",
       "    <tr>\n",
       "      <th>17</th>\n",
       "      <td>LP_FAMILIE_FEIN</td>\n",
       "      <td>person</td>\n",
       "      <td>categorical</td>\n",
       "      <td>[0]</td>\n",
       "    </tr>\n",
       "    <tr>\n",
       "      <th>18</th>\n",
       "      <td>LP_FAMILIE_GROB</td>\n",
       "      <td>person</td>\n",
       "      <td>categorical</td>\n",
       "      <td>[0]</td>\n",
       "    </tr>\n",
       "    <tr>\n",
       "      <th>19</th>\n",
       "      <td>LP_STATUS_FEIN</td>\n",
       "      <td>person</td>\n",
       "      <td>categorical</td>\n",
       "      <td>[0]</td>\n",
       "    </tr>\n",
       "    <tr>\n",
       "      <th>20</th>\n",
       "      <td>LP_STATUS_GROB</td>\n",
       "      <td>person</td>\n",
       "      <td>categorical</td>\n",
       "      <td>[0]</td>\n",
       "    </tr>\n",
       "    <tr>\n",
       "      <th>21</th>\n",
       "      <td>NATIONALITAET_KZ</td>\n",
       "      <td>person</td>\n",
       "      <td>categorical</td>\n",
       "      <td>[-1,0]</td>\n",
       "    </tr>\n",
       "    <tr>\n",
       "      <th>22</th>\n",
       "      <td>PRAEGENDE_JUGENDJAHRE</td>\n",
       "      <td>person</td>\n",
       "      <td>mixed</td>\n",
       "      <td>[-1,0]</td>\n",
       "    </tr>\n",
       "    <tr>\n",
       "      <th>23</th>\n",
       "      <td>RETOURTYP_BK_S</td>\n",
       "      <td>person</td>\n",
       "      <td>ordinal</td>\n",
       "      <td>[0]</td>\n",
       "    </tr>\n",
       "    <tr>\n",
       "      <th>24</th>\n",
       "      <td>SEMIO_SOZ</td>\n",
       "      <td>person</td>\n",
       "      <td>ordinal</td>\n",
       "      <td>[-1,9]</td>\n",
       "    </tr>\n",
       "    <tr>\n",
       "      <th>25</th>\n",
       "      <td>SEMIO_FAM</td>\n",
       "      <td>person</td>\n",
       "      <td>ordinal</td>\n",
       "      <td>[-1,9]</td>\n",
       "    </tr>\n",
       "    <tr>\n",
       "      <th>26</th>\n",
       "      <td>SEMIO_REL</td>\n",
       "      <td>person</td>\n",
       "      <td>ordinal</td>\n",
       "      <td>[-1,9]</td>\n",
       "    </tr>\n",
       "    <tr>\n",
       "      <th>27</th>\n",
       "      <td>SEMIO_MAT</td>\n",
       "      <td>person</td>\n",
       "      <td>ordinal</td>\n",
       "      <td>[-1,9]</td>\n",
       "    </tr>\n",
       "    <tr>\n",
       "      <th>28</th>\n",
       "      <td>SEMIO_VERT</td>\n",
       "      <td>person</td>\n",
       "      <td>ordinal</td>\n",
       "      <td>[-1,9]</td>\n",
       "    </tr>\n",
       "    <tr>\n",
       "      <th>29</th>\n",
       "      <td>SEMIO_LUST</td>\n",
       "      <td>person</td>\n",
       "      <td>ordinal</td>\n",
       "      <td>[-1,9]</td>\n",
       "    </tr>\n",
       "    <tr>\n",
       "      <th>...</th>\n",
       "      <td>...</td>\n",
       "      <td>...</td>\n",
       "      <td>...</td>\n",
       "      <td>...</td>\n",
       "    </tr>\n",
       "    <tr>\n",
       "      <th>55</th>\n",
       "      <td>OST_WEST_KZ</td>\n",
       "      <td>building</td>\n",
       "      <td>categorical</td>\n",
       "      <td>[-1]</td>\n",
       "    </tr>\n",
       "    <tr>\n",
       "      <th>56</th>\n",
       "      <td>WOHNLAGE</td>\n",
       "      <td>building</td>\n",
       "      <td>mixed</td>\n",
       "      <td>[-1]</td>\n",
       "    </tr>\n",
       "    <tr>\n",
       "      <th>57</th>\n",
       "      <td>CAMEO_DEUG_2015</td>\n",
       "      <td>microcell_rr4</td>\n",
       "      <td>categorical</td>\n",
       "      <td>[-1,X]</td>\n",
       "    </tr>\n",
       "    <tr>\n",
       "      <th>58</th>\n",
       "      <td>CAMEO_DEU_2015</td>\n",
       "      <td>microcell_rr4</td>\n",
       "      <td>categorical</td>\n",
       "      <td>[XX]</td>\n",
       "    </tr>\n",
       "    <tr>\n",
       "      <th>59</th>\n",
       "      <td>CAMEO_INTL_2015</td>\n",
       "      <td>microcell_rr4</td>\n",
       "      <td>mixed</td>\n",
       "      <td>[-1,XX]</td>\n",
       "    </tr>\n",
       "    <tr>\n",
       "      <th>60</th>\n",
       "      <td>KBA05_ANTG1</td>\n",
       "      <td>microcell_rr3</td>\n",
       "      <td>ordinal</td>\n",
       "      <td>[-1]</td>\n",
       "    </tr>\n",
       "    <tr>\n",
       "      <th>61</th>\n",
       "      <td>KBA05_ANTG2</td>\n",
       "      <td>microcell_rr3</td>\n",
       "      <td>ordinal</td>\n",
       "      <td>[-1]</td>\n",
       "    </tr>\n",
       "    <tr>\n",
       "      <th>62</th>\n",
       "      <td>KBA05_ANTG3</td>\n",
       "      <td>microcell_rr3</td>\n",
       "      <td>ordinal</td>\n",
       "      <td>[-1]</td>\n",
       "    </tr>\n",
       "    <tr>\n",
       "      <th>63</th>\n",
       "      <td>KBA05_ANTG4</td>\n",
       "      <td>microcell_rr3</td>\n",
       "      <td>ordinal</td>\n",
       "      <td>[-1]</td>\n",
       "    </tr>\n",
       "    <tr>\n",
       "      <th>64</th>\n",
       "      <td>KBA05_BAUMAX</td>\n",
       "      <td>microcell_rr3</td>\n",
       "      <td>mixed</td>\n",
       "      <td>[-1,0]</td>\n",
       "    </tr>\n",
       "    <tr>\n",
       "      <th>65</th>\n",
       "      <td>KBA05_GBZ</td>\n",
       "      <td>microcell_rr3</td>\n",
       "      <td>ordinal</td>\n",
       "      <td>[-1,0]</td>\n",
       "    </tr>\n",
       "    <tr>\n",
       "      <th>66</th>\n",
       "      <td>BALLRAUM</td>\n",
       "      <td>postcode</td>\n",
       "      <td>ordinal</td>\n",
       "      <td>[-1]</td>\n",
       "    </tr>\n",
       "    <tr>\n",
       "      <th>67</th>\n",
       "      <td>EWDICHTE</td>\n",
       "      <td>postcode</td>\n",
       "      <td>ordinal</td>\n",
       "      <td>[-1]</td>\n",
       "    </tr>\n",
       "    <tr>\n",
       "      <th>68</th>\n",
       "      <td>INNENSTADT</td>\n",
       "      <td>postcode</td>\n",
       "      <td>ordinal</td>\n",
       "      <td>[-1]</td>\n",
       "    </tr>\n",
       "    <tr>\n",
       "      <th>69</th>\n",
       "      <td>GEBAEUDETYP_RASTER</td>\n",
       "      <td>region_rr1</td>\n",
       "      <td>ordinal</td>\n",
       "      <td>[]</td>\n",
       "    </tr>\n",
       "    <tr>\n",
       "      <th>70</th>\n",
       "      <td>KKK</td>\n",
       "      <td>region_rr1</td>\n",
       "      <td>ordinal</td>\n",
       "      <td>[-1,0]</td>\n",
       "    </tr>\n",
       "    <tr>\n",
       "      <th>71</th>\n",
       "      <td>MOBI_REGIO</td>\n",
       "      <td>region_rr1</td>\n",
       "      <td>ordinal</td>\n",
       "      <td>[]</td>\n",
       "    </tr>\n",
       "    <tr>\n",
       "      <th>72</th>\n",
       "      <td>ONLINE_AFFINITAET</td>\n",
       "      <td>region_rr1</td>\n",
       "      <td>ordinal</td>\n",
       "      <td>[]</td>\n",
       "    </tr>\n",
       "    <tr>\n",
       "      <th>73</th>\n",
       "      <td>REGIOTYP</td>\n",
       "      <td>region_rr1</td>\n",
       "      <td>ordinal</td>\n",
       "      <td>[-1,0]</td>\n",
       "    </tr>\n",
       "    <tr>\n",
       "      <th>74</th>\n",
       "      <td>KBA13_ANZAHL_PKW</td>\n",
       "      <td>macrocell_plz8</td>\n",
       "      <td>numeric</td>\n",
       "      <td>[]</td>\n",
       "    </tr>\n",
       "    <tr>\n",
       "      <th>75</th>\n",
       "      <td>PLZ8_ANTG1</td>\n",
       "      <td>macrocell_plz8</td>\n",
       "      <td>ordinal</td>\n",
       "      <td>[-1]</td>\n",
       "    </tr>\n",
       "    <tr>\n",
       "      <th>76</th>\n",
       "      <td>PLZ8_ANTG2</td>\n",
       "      <td>macrocell_plz8</td>\n",
       "      <td>ordinal</td>\n",
       "      <td>[-1]</td>\n",
       "    </tr>\n",
       "    <tr>\n",
       "      <th>77</th>\n",
       "      <td>PLZ8_ANTG3</td>\n",
       "      <td>macrocell_plz8</td>\n",
       "      <td>ordinal</td>\n",
       "      <td>[-1]</td>\n",
       "    </tr>\n",
       "    <tr>\n",
       "      <th>78</th>\n",
       "      <td>PLZ8_ANTG4</td>\n",
       "      <td>macrocell_plz8</td>\n",
       "      <td>ordinal</td>\n",
       "      <td>[-1]</td>\n",
       "    </tr>\n",
       "    <tr>\n",
       "      <th>79</th>\n",
       "      <td>PLZ8_BAUMAX</td>\n",
       "      <td>macrocell_plz8</td>\n",
       "      <td>mixed</td>\n",
       "      <td>[-1,0]</td>\n",
       "    </tr>\n",
       "    <tr>\n",
       "      <th>80</th>\n",
       "      <td>PLZ8_HHZ</td>\n",
       "      <td>macrocell_plz8</td>\n",
       "      <td>ordinal</td>\n",
       "      <td>[-1]</td>\n",
       "    </tr>\n",
       "    <tr>\n",
       "      <th>81</th>\n",
       "      <td>PLZ8_GBZ</td>\n",
       "      <td>macrocell_plz8</td>\n",
       "      <td>ordinal</td>\n",
       "      <td>[-1]</td>\n",
       "    </tr>\n",
       "    <tr>\n",
       "      <th>82</th>\n",
       "      <td>ARBEIT</td>\n",
       "      <td>community</td>\n",
       "      <td>ordinal</td>\n",
       "      <td>[-1,9]</td>\n",
       "    </tr>\n",
       "    <tr>\n",
       "      <th>83</th>\n",
       "      <td>ORTSGR_KLS9</td>\n",
       "      <td>community</td>\n",
       "      <td>ordinal</td>\n",
       "      <td>[-1,0]</td>\n",
       "    </tr>\n",
       "    <tr>\n",
       "      <th>84</th>\n",
       "      <td>RELAT_AB</td>\n",
       "      <td>community</td>\n",
       "      <td>ordinal</td>\n",
       "      <td>[-1,9]</td>\n",
       "    </tr>\n",
       "  </tbody>\n",
       "</table>\n",
       "<p>85 rows × 4 columns</p>\n",
       "</div>"
      ],
      "text/plain": [
       "                attribute information_level         type missing_or_unknown\n",
       "0                AGER_TYP            person  categorical             [-1,0]\n",
       "1    ALTERSKATEGORIE_GROB            person      ordinal           [-1,0,9]\n",
       "2               ANREDE_KZ            person  categorical             [-1,0]\n",
       "3           CJT_GESAMTTYP            person  categorical                [0]\n",
       "4       FINANZ_MINIMALIST            person      ordinal               [-1]\n",
       "5           FINANZ_SPARER            person      ordinal               [-1]\n",
       "6        FINANZ_VORSORGER            person      ordinal               [-1]\n",
       "7          FINANZ_ANLEGER            person      ordinal               [-1]\n",
       "8   FINANZ_UNAUFFAELLIGER            person      ordinal               [-1]\n",
       "9        FINANZ_HAUSBAUER            person      ordinal               [-1]\n",
       "10              FINANZTYP            person  categorical               [-1]\n",
       "11            GEBURTSJAHR            person      numeric                [0]\n",
       "12        GFK_URLAUBERTYP            person  categorical                 []\n",
       "13       GREEN_AVANTGARDE            person  categorical                 []\n",
       "14             HEALTH_TYP            person      ordinal             [-1,0]\n",
       "15    LP_LEBENSPHASE_FEIN            person        mixed                [0]\n",
       "16    LP_LEBENSPHASE_GROB            person        mixed                [0]\n",
       "17        LP_FAMILIE_FEIN            person  categorical                [0]\n",
       "18        LP_FAMILIE_GROB            person  categorical                [0]\n",
       "19         LP_STATUS_FEIN            person  categorical                [0]\n",
       "20         LP_STATUS_GROB            person  categorical                [0]\n",
       "21       NATIONALITAET_KZ            person  categorical             [-1,0]\n",
       "22  PRAEGENDE_JUGENDJAHRE            person        mixed             [-1,0]\n",
       "23         RETOURTYP_BK_S            person      ordinal                [0]\n",
       "24              SEMIO_SOZ            person      ordinal             [-1,9]\n",
       "25              SEMIO_FAM            person      ordinal             [-1,9]\n",
       "26              SEMIO_REL            person      ordinal             [-1,9]\n",
       "27              SEMIO_MAT            person      ordinal             [-1,9]\n",
       "28             SEMIO_VERT            person      ordinal             [-1,9]\n",
       "29             SEMIO_LUST            person      ordinal             [-1,9]\n",
       "..                    ...               ...          ...                ...\n",
       "55            OST_WEST_KZ          building  categorical               [-1]\n",
       "56               WOHNLAGE          building        mixed               [-1]\n",
       "57        CAMEO_DEUG_2015     microcell_rr4  categorical             [-1,X]\n",
       "58         CAMEO_DEU_2015     microcell_rr4  categorical               [XX]\n",
       "59        CAMEO_INTL_2015     microcell_rr4        mixed            [-1,XX]\n",
       "60            KBA05_ANTG1     microcell_rr3      ordinal               [-1]\n",
       "61            KBA05_ANTG2     microcell_rr3      ordinal               [-1]\n",
       "62            KBA05_ANTG3     microcell_rr3      ordinal               [-1]\n",
       "63            KBA05_ANTG4     microcell_rr3      ordinal               [-1]\n",
       "64           KBA05_BAUMAX     microcell_rr3        mixed             [-1,0]\n",
       "65              KBA05_GBZ     microcell_rr3      ordinal             [-1,0]\n",
       "66               BALLRAUM          postcode      ordinal               [-1]\n",
       "67               EWDICHTE          postcode      ordinal               [-1]\n",
       "68             INNENSTADT          postcode      ordinal               [-1]\n",
       "69     GEBAEUDETYP_RASTER        region_rr1      ordinal                 []\n",
       "70                    KKK        region_rr1      ordinal             [-1,0]\n",
       "71             MOBI_REGIO        region_rr1      ordinal                 []\n",
       "72      ONLINE_AFFINITAET        region_rr1      ordinal                 []\n",
       "73               REGIOTYP        region_rr1      ordinal             [-1,0]\n",
       "74       KBA13_ANZAHL_PKW    macrocell_plz8      numeric                 []\n",
       "75             PLZ8_ANTG1    macrocell_plz8      ordinal               [-1]\n",
       "76             PLZ8_ANTG2    macrocell_plz8      ordinal               [-1]\n",
       "77             PLZ8_ANTG3    macrocell_plz8      ordinal               [-1]\n",
       "78             PLZ8_ANTG4    macrocell_plz8      ordinal               [-1]\n",
       "79            PLZ8_BAUMAX    macrocell_plz8        mixed             [-1,0]\n",
       "80               PLZ8_HHZ    macrocell_plz8      ordinal               [-1]\n",
       "81               PLZ8_GBZ    macrocell_plz8      ordinal               [-1]\n",
       "82                 ARBEIT         community      ordinal             [-1,9]\n",
       "83            ORTSGR_KLS9         community      ordinal             [-1,0]\n",
       "84               RELAT_AB         community      ordinal             [-1,9]\n",
       "\n",
       "[85 rows x 4 columns]"
      ]
     },
     "execution_count": 6,
     "metadata": {},
     "output_type": "execute_result"
    }
   ],
   "source": [
    "print(feat_info.shape)\n",
    "feat_info"
   ]
  },
  {
   "cell_type": "markdown",
   "metadata": {},
   "source": [
    "> **Tip**: Add additional cells to keep everything in reasonably-sized chunks! Keyboard shortcut `esc --> a` (press escape to enter command mode, then press the 'A' key) adds a new cell before the active cell, and `esc --> b` adds a new cell after the active cell. If you need to convert an active cell to a markdown cell, use `esc --> m` and to convert to a code cell, use `esc --> y`. \n",
    "\n",
    "## Step 1: Preprocessing\n",
    "\n",
    "### Step 1.1: Assess Missing Data\n",
    "\n",
    "The feature summary file contains a summary of properties for each demographics data column. You will use this file to help you make cleaning decisions during this stage of the project. First of all, you should assess the demographics data in terms of missing data. Pay attention to the following points as you perform your analysis, and take notes on what you observe. Make sure that you fill in the **Discussion** cell with your findings and decisions at the end of each step that has one!\n",
    "\n",
    "#### Step 1.1.1: Convert Missing Value Codes to NaNs\n",
    "The fourth column of the feature attributes summary (loaded in above as `feat_info`) documents the codes from the data dictionary that indicate missing or unknown data. While the file encodes this as a list (e.g. `[-1,0]`), this will get read in as a string object. You'll need to do a little bit of parsing to make use of it to identify and clean the data. Convert data that matches a 'missing' or 'unknown' value code into a numpy NaN value. You might want to see how much data takes on a 'missing' or 'unknown' code, and how much data is naturally missing, as a point of interest.\n",
    "\n",
    "**As one more reminder, you are encouraged to add additional cells to break up your analysis into manageable chunks.**"
   ]
  },
  {
   "cell_type": "code",
   "execution_count": 7,
   "metadata": {},
   "outputs": [
    {
     "name": "stdout",
     "output_type": "stream",
     "text": [
      "Number of naturally missing values by feature\n",
      "---------------------------------------------\n",
      "CJT_GESAMTTYP            4854\n",
      "GFK_URLAUBERTYP          4854\n",
      "LP_LEBENSPHASE_FEIN      4854\n",
      "LP_LEBENSPHASE_GROB      4854\n",
      "LP_FAMILIE_FEIN          4854\n",
      "LP_FAMILIE_GROB          4854\n",
      "LP_STATUS_FEIN           4854\n",
      "LP_STATUS_GROB           4854\n",
      "RETOURTYP_BK_S           4854\n",
      "SOHO_KZ                 73499\n",
      "TITEL_KZ                73499\n",
      "ALTER_HH                73499\n",
      "ANZ_PERSONEN            73499\n",
      "ANZ_TITEL               73499\n",
      "HH_EINKOMMEN_SCORE      18348\n",
      "KK_KUNDENTYP           584612\n",
      "W_KEIT_KIND_HH         107602\n",
      "WOHNDAUER_2008          73499\n",
      "ANZ_HAUSHALTE_AKTIV     93148\n",
      "ANZ_HH_TITEL            97008\n",
      "GEBAEUDETYP             93148\n",
      "KONSUMNAEHE             73969\n",
      "MIN_GEBAEUDEJAHR        93148\n",
      "OST_WEST_KZ             93148\n",
      "WOHNLAGE                93148\n",
      "CAMEO_DEUG_2015         98979\n",
      "CAMEO_DEU_2015          98979\n",
      "CAMEO_INTL_2015         98979\n",
      "KBA05_ANTG1            133324\n",
      "KBA05_ANTG2            133324\n",
      "KBA05_ANTG3            133324\n",
      "KBA05_ANTG4            133324\n",
      "KBA05_BAUMAX           133324\n",
      "KBA05_GBZ              133324\n",
      "BALLRAUM                93740\n",
      "EWDICHTE                93740\n",
      "INNENSTADT              93740\n",
      "GEBAEUDETYP_RASTER      93155\n",
      "KKK                    121196\n",
      "MOBI_REGIO             133324\n",
      "ONLINE_AFFINITAET        4854\n",
      "REGIOTYP               121196\n",
      "KBA13_ANZAHL_PKW       105800\n",
      "PLZ8_ANTG1             116515\n",
      "PLZ8_ANTG2             116515\n",
      "PLZ8_ANTG3             116515\n",
      "PLZ8_ANTG4             116515\n",
      "PLZ8_BAUMAX            116515\n",
      "PLZ8_HHZ               116515\n",
      "PLZ8_GBZ               116515\n",
      "ARBEIT                  97216\n",
      "ORTSGR_KLS9             97216\n",
      "RELAT_AB                97216\n",
      "dtype: int64\n",
      "---------------------------------------------\n",
      "Total number of naturally missing values: 4896838\n"
     ]
    }
   ],
   "source": [
    "# Identify missing or unknown data values and convert them to NaNs.\n",
    "tmp = azdias.isnull().sum()\n",
    "print(\"Number of naturally missing values by feature\")\n",
    "print('---------------------------------------------')\n",
    "print(tmp[tmp!=0])\n",
    "print('---------------------------------------------')\n",
    "print(\"Total number of naturally missing values: {}\".format(azdias.isnull().sum().sum()))"
   ]
  },
  {
   "cell_type": "code",
   "execution_count": 8,
   "metadata": {
    "scrolled": false
   },
   "outputs": [],
   "source": [
    "for ii, key in enumerate(feat_info['attribute']):\n",
    "    missing_or_unknown = feat_info['missing_or_unknown'][ii]\n",
    "    missing_or_unknown = missing_or_unknown[1:-1].split(',') # returns a list of strings\n",
    "    \n",
    "    if missing_or_unknown[0]: # make sure missing_or_unknown contains something; '' will be skipped\n",
    "        if azdias[key].dtype == 'int64':\n",
    "            missing_or_unknown = [int(x) for x in missing_or_unknown]\n",
    "        elif azdias[key].dtype == 'float64':\n",
    "            missing_or_unknown = [float(x) for x in missing_or_unknown]\n",
    "        elif azdias[key].dtype == 'O':\n",
    "            pass # do not convert the type for string variables\n",
    "        else: \n",
    "            print(\"Warning: unknown data type\")    \n",
    "        \n",
    "        azdias.loc[azdias[key].isin(missing_or_unknown), key] = np.nan"
   ]
  },
  {
   "cell_type": "code",
   "execution_count": 9,
   "metadata": {},
   "outputs": [
    {
     "name": "stdout",
     "output_type": "stream",
     "text": [
      "Total number of naturally missing values: 8373929\n"
     ]
    }
   ],
   "source": [
    "# missing values after conversion\n",
    "print(\"Total number of naturally missing values: {}\".format(azdias.isnull().sum().sum()))"
   ]
  },
  {
   "cell_type": "markdown",
   "metadata": {},
   "source": [
    "#### Step 1.1.2: Assess Missing Data in Each Column\n",
    "\n",
    "How much missing data is present in each column? There are a few columns that are outliers in terms of the proportion of values that are missing. You will want to use matplotlib's [`hist()`](https://matplotlib.org/api/_as_gen/matplotlib.pyplot.hist.html) function to visualize the distribution of missing value counts to find these columns. Identify and document these columns. While some of these columns might have justifications for keeping or re-encoding the data, for this project you should just remove them from the dataframe. (Feel free to make remarks about these outlier columns in the discussion, however!)\n",
    "\n",
    "For the remaining features, are there any patterns in which columns have, or share, missing data?"
   ]
  },
  {
   "cell_type": "code",
   "execution_count": 10,
   "metadata": {},
   "outputs": [
    {
     "data": {
      "text/plain": [
       "TITEL_KZ                 99.76\n",
       "AGER_TYP                 76.96\n",
       "KK_KUNDENTYP             65.60\n",
       "KBA05_BAUMAX             53.47\n",
       "GEBURTSJAHR              44.02\n",
       "ALTER_HH                 34.81\n",
       "REGIOTYP                 17.74\n",
       "KKK                      17.74\n",
       "W_KEIT_KIND_HH           16.61\n",
       "KBA05_ANTG4              14.96\n",
       "KBA05_GBZ                14.96\n",
       "MOBI_REGIO               14.96\n",
       "KBA05_ANTG1              14.96\n",
       "KBA05_ANTG2              14.96\n",
       "KBA05_ANTG3              14.96\n",
       "PLZ8_GBZ                 13.07\n",
       "PLZ8_HHZ                 13.07\n",
       "PLZ8_BAUMAX              13.07\n",
       "PLZ8_ANTG4               13.07\n",
       "PLZ8_ANTG1               13.07\n",
       "PLZ8_ANTG3               13.07\n",
       "PLZ8_ANTG2               13.07\n",
       "SHOPPER_TYP              12.48\n",
       "VERS_TYP                 12.48\n",
       "HEALTH_TYP               12.48\n",
       "NATIONALITAET_KZ         12.15\n",
       "PRAEGENDE_JUGENDJAHRE    12.14\n",
       "KBA13_ANZAHL_PKW         11.87\n",
       "ANZ_HAUSHALTE_AKTIV      11.18\n",
       "CAMEO_INTL_2015          11.15\n",
       "                         ...  \n",
       "LP_STATUS_FEIN            0.54\n",
       "LP_STATUS_GROB            0.54\n",
       "CJT_GESAMTTYP             0.54\n",
       "RETOURTYP_BK_S            0.54\n",
       "GFK_URLAUBERTYP           0.54\n",
       "ALTERSKATEGORIE_GROB      0.32\n",
       "FINANZ_MINIMALIST         0.00\n",
       "GREEN_AVANTGARDE          0.00\n",
       "FINANZ_ANLEGER            0.00\n",
       "FINANZ_SPARER             0.00\n",
       "FINANZTYP                 0.00\n",
       "FINANZ_HAUSBAUER          0.00\n",
       "ANREDE_KZ                 0.00\n",
       "FINANZ_UNAUFFAELLIGER     0.00\n",
       "FINANZ_VORSORGER          0.00\n",
       "SEMIO_FAM                 0.00\n",
       "SEMIO_SOZ                 0.00\n",
       "SEMIO_REL                 0.00\n",
       "SEMIO_MAT                 0.00\n",
       "SEMIO_VERT                0.00\n",
       "SEMIO_LUST                0.00\n",
       "SEMIO_ERL                 0.00\n",
       "SEMIO_KULT                0.00\n",
       "SEMIO_RAT                 0.00\n",
       "SEMIO_KRIT                0.00\n",
       "SEMIO_DOM                 0.00\n",
       "SEMIO_KAEM                0.00\n",
       "SEMIO_PFLICHT             0.00\n",
       "SEMIO_TRADV               0.00\n",
       "ZABEOTYP                  0.00\n",
       "Length: 85, dtype: float64"
      ]
     },
     "execution_count": 10,
     "metadata": {},
     "output_type": "execute_result"
    }
   ],
   "source": [
    "# Perform an assessment of how much missing data there is in each column of the\n",
    "# dataset.\n",
    "missing_percentage = round(azdias.isnull().mean() * 100,2)\n",
    "missing_percentage.sort_values(ascending = False)"
   ]
  },
  {
   "cell_type": "code",
   "execution_count": 11,
   "metadata": {},
   "outputs": [
    {
     "data": {
      "text/plain": [
       "<matplotlib.axes._subplots.AxesSubplot at 0x7f5f9fa8bdd8>"
      ]
     },
     "execution_count": 11,
     "metadata": {},
     "output_type": "execute_result"
    },
    {
     "data": {
      "image/png": "[encoded data removed]",
      "text/plain": [
       "<matplotlib.figure.Figure at 0x7f5f9fa2fd68>"
      ]
     },
     "metadata": {
      "needs_background": "light"
     },
     "output_type": "display_data"
    }
   ],
   "source": [
    "# Investigate patterns in the amount of missing data in each column.\n",
    "sb.distplot(missing_percentage, kde=False)"
   ]
  },
  {
   "cell_type": "code",
   "execution_count": 12,
   "metadata": {},
   "outputs": [
    {
     "name": "stdout",
     "output_type": "stream",
     "text": [
      "Index(['AGER_TYP', 'GEBURTSJAHR', 'TITEL_KZ', 'ALTER_HH', 'KK_KUNDENTYP',\n",
      "       'KBA05_BAUMAX'],\n",
      "      dtype='object')\n"
     ]
    }
   ],
   "source": [
    "# Remove the outlier columns from the dataset. (You'll perform other data\n",
    "# engineering tasks such as re-encoding and imputation later.)\n",
    "rm_list = missing_percentage[missing_percentage > 20].index\n",
    "print(rm_list)\n",
    "\n",
    "azdias.drop(rm_list, axis = 1, inplace = True)"
   ]
  },
  {
   "cell_type": "code",
   "execution_count": 13,
   "metadata": {},
   "outputs": [],
   "source": [
    "# azdias.info()\n",
    "# azdias.describe()"
   ]
  },
  {
   "cell_type": "markdown",
   "metadata": {},
   "source": [
    "#### Discussion 1.1.2: Assess Missing Data in Each Column\n",
    "\n",
    "It seems the discontinuity occurs when the missing rate is greater than 20%. So I dropped the following 6 features whose missing rate is larger than 20%, with a minimum of 34.81% and a maximum of 99.76%.\n",
    "\n",
    "- TITEL_KZ                 99.76\n",
    "- AGER_TYP                 76.96\n",
    "- KK_KUNDENTYP             65.60\n",
    "- KBA05_BAUMAX             53.47\n",
    "- GEBURTSJAHR              44.02\n",
    "- ALTER_HH                 34.81"
   ]
  },
  {
   "cell_type": "markdown",
   "metadata": {},
   "source": [
    "#### Step 1.1.3: Assess Missing Data in Each Row\n",
    "\n",
    "Now, you'll perform a similar assessment for the rows of the dataset. How much data is missing in each row? As with the columns, you should see some groups of points that have a very different numbers of missing values. Divide the data into two subsets: one for data points that are above some threshold for missing values, and a second subset for points below that threshold.\n",
    "\n",
    "In order to know what to do with the outlier rows, we should see if the distribution of data values on columns that are not missing data (or are missing very little data) are similar or different between the two groups. Select at least five of these columns and compare the distribution of values.\n",
    "- You can use seaborn's [`countplot()`](https://seaborn.pydata.org/generated/seaborn.countplot.html) function to create a bar chart of code frequencies and matplotlib's [`subplot()`](https://matplotlib.org/api/_as_gen/matplotlib.pyplot.subplot.html) function to put bar charts for the two subplots side by side.\n",
    "- To reduce repeated code, you might want to write a function that can perform this comparison, taking as one of its arguments a column to be compared.\n",
    "\n",
    "Depending on what you observe in your comparison, this will have implications on how you approach your conclusions later in the analysis. If the distributions of non-missing features look similar between the data with many missing values and the data with few or no missing values, then we could argue that simply dropping those points from the analysis won't present a major issue. On the other hand, if the data with many missing values looks very different from the data with few or no missing values, then we should make a note on those data as special. We'll revisit these data later on. **Either way, you should continue your analysis for now using just the subset of the data with few or no missing values.**"
   ]
  },
  {
   "cell_type": "code",
   "execution_count": 14,
   "metadata": {},
   "outputs": [
    {
     "data": {
      "text/plain": [
       "count    891221.000000\n",
       "mean          7.151764\n",
       "std          16.752768\n",
       "min           0.000000\n",
       "25%           0.000000\n",
       "50%           0.000000\n",
       "75%           3.797468\n",
       "max          62.025316\n",
       "dtype: float64"
      ]
     },
     "execution_count": 14,
     "metadata": {},
     "output_type": "execute_result"
    }
   ],
   "source": [
    "# How much data is missing in each row of the dataset?\n",
    "missing_percentage_row = azdias.isnull().mean(axis = 1) * 100\n",
    "missing_percentage_row.describe()"
   ]
  },
  {
   "cell_type": "code",
   "execution_count": 15,
   "metadata": {},
   "outputs": [
    {
     "data": {
      "text/plain": [
       "<matplotlib.axes._subplots.AxesSubplot at 0x7f5f9d2e9128>"
      ]
     },
     "execution_count": 15,
     "metadata": {},
     "output_type": "execute_result"
    },
    {
     "data": {
      "image/png": "[encoded data removed]",
      "text/plain": [
       "<matplotlib.figure.Figure at 0x7f5f9fa2f8d0>"
      ]
     },
     "metadata": {
      "needs_background": "light"
     },
     "output_type": "display_data"
    }
   ],
   "source": [
    "sb.distplot(missing_percentage_row)"
   ]
  },
  {
   "cell_type": "code",
   "execution_count": 16,
   "metadata": {},
   "outputs": [],
   "source": [
    "# Write code to divide the data into two subsets based on the number of missing\n",
    "# values in each row.\n",
    "\n",
    "# it seems 30% is natural cut-off\n",
    "\n",
    "azdias_a30 = azdias[missing_percentage_row >= 30]\n",
    "azdias_b30 = azdias[missing_percentage_row <  30]"
   ]
  },
  {
   "cell_type": "code",
   "execution_count": 17,
   "metadata": {
    "scrolled": false
   },
   "outputs": [
    {
     "data": {
      "image/png": "[encoded data removed]",
      "text/plain": [
       "<matplotlib.figure.Figure at 0x7f5f7da59be0>"
      ]
     },
     "metadata": {
      "needs_background": "light"
     },
     "output_type": "display_data"
    },
    {
     "data": {
      "image/png": "[encoded data removed]",
      "text/plain": [
       "<matplotlib.figure.Figure at 0x7f5f7d9b32b0>"
      ]
     },
     "metadata": {
      "needs_background": "light"
     },
     "output_type": "display_data"
    },
    {
     "data": {
      "image/png": "[encoded data removed]",
      "text/plain": [
       "<matplotlib.figure.Figure at 0x7f5f7d93ee48>"
      ]
     },
     "metadata": {
      "needs_background": "light"
     },
     "output_type": "display_data"
    },
    {
     "data": {
      "image/png": "[encoded data removed]",
      "text/plain": [
       "<matplotlib.figure.Figure at 0x7f5f7d863be0>"
      ]
     },
     "metadata": {
      "needs_background": "light"
     },
     "output_type": "display_data"
    },
    {
     "data": {
      "image/png": "[encoded data removed]",
      "text/plain": [
       "<matplotlib.figure.Figure at 0x7f5f7d797e48>"
      ]
     },
     "metadata": {
      "needs_background": "light"
     },
     "output_type": "display_data"
    },
    {
     "data": {
      "image/png": "[encoded data removed]",
      "text/plain": [
       "<matplotlib.figure.Figure at 0x7f5f7d772978>"
      ]
     },
     "metadata": {
      "needs_background": "light"
     },
     "output_type": "display_data"
    },
    {
     "data": {
      "image/png": "[encoded data removed]",
      "text/plain": [
       "<matplotlib.figure.Figure at 0x7f5f7d6ab048>"
      ]
     },
     "metadata": {
      "needs_background": "light"
     },
     "output_type": "display_data"
    },
    {
     "data": {
      "image/png": "[encoded data removed]",
      "text/plain": [
       "<matplotlib.figure.Figure at 0x7f5f7d636978>"
      ]
     },
     "metadata": {
      "needs_background": "light"
     },
     "output_type": "display_data"
    },
    {
     "data": {
      "image/png": "[encoded data removed]",
      "text/plain": [
       "<matplotlib.figure.Figure at 0x7f5f7d5529e8>"
      ]
     },
     "metadata": {
      "needs_background": "light"
     },
     "output_type": "display_data"
    },
    {
     "data": {
      "image/png": "[encoded data removed]",
      "text/plain": [
       "<matplotlib.figure.Figure at 0x7f5f7d4d9978>"
      ]
     },
     "metadata": {
      "needs_background": "light"
     },
     "output_type": "display_data"
    }
   ],
   "source": [
    "# Compare the distribution of values for at least five columns where there are\n",
    "# no or few missing values, between the two subsets.\n",
    "\n",
    "col_list = missing_percentage.sort_values().head(30).sample(10, random_state=0).index\n",
    "\n",
    "for col in col_list:\n",
    "    fig = plt.figure(figsize=(12,2))\n",
    "    \n",
    "    ax = fig.add_subplot(1,2,1)\n",
    "    sb.countplot(azdias_a30[col])\n",
    "    ax.set(title='More than 30% missing')\n",
    "    \n",
    "    ax = fig.add_subplot(1,2,2)\n",
    "    sb.countplot(azdias_b30[col])\n",
    "    ax.set(title='Less than 30% missing')"
   ]
  },
  {
   "cell_type": "code",
   "execution_count": 18,
   "metadata": {},
   "outputs": [
    {
     "data": {
      "text/plain": [
       "['SEMIO_PFLICHT',\n",
       " 'LP_STATUS_GROB',\n",
       " 'SEMIO_SOZ',\n",
       " 'SEMIO_VERT',\n",
       " 'RETOURTYP_BK_S',\n",
       " 'ALTERSKATEGORIE_GROB',\n",
       " 'CJT_GESAMTTYP',\n",
       " 'SEMIO_MAT',\n",
       " 'ANREDE_KZ',\n",
       " 'GREEN_AVANTGARDE']"
      ]
     },
     "execution_count": 18,
     "metadata": {},
     "output_type": "execute_result"
    }
   ],
   "source": [
    "[x for x in col_list]"
   ]
  },
  {
   "cell_type": "markdown",
   "metadata": {},
   "source": [
    "#### Discussion 1.1.3: Assess Missing Data in Each Row\n",
    "\n",
    "Yes, for variables such as 'SEMIO_PFLICHT', 'LP_STATUS_GROB', 'SEMIO_SOZ', and 'SEMIO_VERT', the distributions are very different. It seems the group of people with more missing values are a different group of people than those with less missing values."
   ]
  },
  {
   "cell_type": "markdown",
   "metadata": {},
   "source": [
    "### Step 1.2: Select and Re-Encode Features\n",
    "\n",
    "Checking for missing data isn't the only way in which you can prepare a dataset for analysis. Since the unsupervised learning techniques to be used will only work on data that is encoded numerically, you need to make a few encoding changes or additional assumptions to be able to make progress. In addition, while almost all of the values in the dataset are encoded using numbers, not all of them represent numeric values. Check the third column of the feature summary (`feat_info`) for a summary of types of measurement.\n",
    "- For numeric and interval data, these features can be kept without changes.\n",
    "- Most of the variables in the dataset are ordinal in nature. While ordinal values may technically be non-linear in spacing, make the simplifying assumption that the ordinal variables can be treated as being interval in nature (that is, kept without any changes).\n",
    "- Special handling may be necessary for the remaining two variable types: categorical, and 'mixed'.\n",
    "\n",
    "In the first two parts of this sub-step, you will perform an investigation of the categorical and mixed-type features and make a decision on each of them, whether you will keep, drop, or re-encode each. Then, in the last part, you will create a new data frame with only the selected and engineered columns.\n",
    "\n",
    "Data wrangling is often the trickiest part of the data analysis process, and there's a lot of it to be done here. But stick with it: once you're done with this step, you'll be ready to get to the machine learning parts of the project!"
   ]
  },
  {
   "cell_type": "code",
   "execution_count": 19,
   "metadata": {},
   "outputs": [
    {
     "data": {
      "text/plain": [
       "ordinal        49\n",
       "categorical    18\n",
       "numeric         6\n",
       "mixed           6\n",
       "Name: type, dtype: int64"
      ]
     },
     "execution_count": 19,
     "metadata": {},
     "output_type": "execute_result"
    }
   ],
   "source": [
    "# How many features are there of each data type?\n",
    "feat_info_updated = feat_info[~feat_info['attribute'].isin(rm_list)]\n",
    "feat_info_updated['type'].value_counts()"
   ]
  },
  {
   "cell_type": "markdown",
   "metadata": {},
   "source": [
    "#### Step 1.2.1: Re-Encode Categorical Features\n",
    "\n",
    "For categorical data, you would ordinarily need to encode the levels as dummy variables. Depending on the number of categories, perform one of the following:\n",
    "- For binary (two-level) categoricals that take numeric values, you can keep them without needing to do anything.\n",
    "- There is one binary variable that takes on non-numeric values. For this one, you need to re-encode the values as numbers or create a dummy variable.\n",
    "- For multi-level categoricals (three or more values), you can choose to encode the values using multiple dummy variables (e.g. via [OneHotEncoder](http://scikit-learn.org/stable/modules/generated/sklearn.preprocessing.OneHotEncoder.html)), or (to keep things straightforward) just drop them from the analysis. As always, document your choices in the Discussion section."
   ]
  },
  {
   "cell_type": "code",
   "execution_count": 20,
   "metadata": {},
   "outputs": [
    {
     "data": {
      "text/plain": [
       "2            ANREDE_KZ\n",
       "3        CJT_GESAMTTYP\n",
       "10           FINANZTYP\n",
       "12     GFK_URLAUBERTYP\n",
       "13    GREEN_AVANTGARDE\n",
       "17     LP_FAMILIE_FEIN\n",
       "18     LP_FAMILIE_GROB\n",
       "19      LP_STATUS_FEIN\n",
       "20      LP_STATUS_GROB\n",
       "21    NATIONALITAET_KZ\n",
       "38         SHOPPER_TYP\n",
       "39             SOHO_KZ\n",
       "41            VERS_TYP\n",
       "42            ZABEOTYP\n",
       "52         GEBAEUDETYP\n",
       "55         OST_WEST_KZ\n",
       "57     CAMEO_DEUG_2015\n",
       "58      CAMEO_DEU_2015\n",
       "Name: attribute, dtype: object"
      ]
     },
     "execution_count": 20,
     "metadata": {},
     "output_type": "execute_result"
    }
   ],
   "source": [
    "# Assess categorical variables: which are binary, which are multi-level, and\n",
    "# which one needs to be re-encoded?\n",
    "\n",
    "cat_features = feat_info_updated[feat_info_updated[\"type\"] == \"categorical\"][\"attribute\"]\n",
    "cat_features"
   ]
  },
  {
   "cell_type": "code",
   "execution_count": 21,
   "metadata": {},
   "outputs": [
    {
     "name": "stdout",
     "output_type": "stream",
     "text": [
      "binary:     ['ANREDE_KZ', 'GREEN_AVANTGARDE', 'SOHO_KZ', 'VERS_TYP', 'OST_WEST_KZ']\n",
      "multilevel: ['CJT_GESAMTTYP', 'FINANZTYP', 'GFK_URLAUBERTYP', 'LP_FAMILIE_FEIN', 'LP_FAMILIE_GROB', 'LP_STATUS_FEIN', 'LP_STATUS_GROB', 'NATIONALITAET_KZ', 'SHOPPER_TYP', 'ZABEOTYP', 'GEBAEUDETYP', 'CAMEO_DEUG_2015', 'CAMEO_DEU_2015']\n"
     ]
    }
   ],
   "source": [
    "# Re-encode categorical variable(s) to be kept in the analysis.\n",
    "binary_flist = []\n",
    "multi_flist  = []\n",
    "\n",
    "for fea in cat_features:\n",
    "    if len(azdias_b30[fea].value_counts()) == 2:\n",
    "        binary_flist.append(fea)\n",
    "    else:\n",
    "        multi_flist.append(fea)\n",
    "        \n",
    "print('binary:    ', binary_flist)\n",
    "print('multilevel:', multi_flist)"
   ]
  },
  {
   "cell_type": "code",
   "execution_count": 22,
   "metadata": {},
   "outputs": [
    {
     "name": "stdout",
     "output_type": "stream",
     "text": [
      "<class 'pandas.core.frame.DataFrame'>\n",
      "Int64Index: 797837 entries, 1 to 891220\n",
      "Data columns (total 66 columns):\n",
      "ALTERSKATEGORIE_GROB     795037 non-null float64\n",
      "ANREDE_KZ                797837 non-null float64\n",
      "FINANZ_MINIMALIST        797837 non-null float64\n",
      "FINANZ_SPARER            797837 non-null float64\n",
      "FINANZ_VORSORGER         797837 non-null float64\n",
      "FINANZ_ANLEGER           797837 non-null float64\n",
      "FINANZ_UNAUFFAELLIGER    797837 non-null float64\n",
      "FINANZ_HAUSBAUER         797837 non-null float64\n",
      "GREEN_AVANTGARDE         797837 non-null int64\n",
      "HEALTH_TYP               761193 non-null float64\n",
      "LP_LEBENSPHASE_FEIN      747827 non-null float64\n",
      "LP_LEBENSPHASE_GROB      750707 non-null float64\n",
      "PRAEGENDE_JUGENDJAHRE    769164 non-null float64\n",
      "RETOURTYP_BK_S           793171 non-null float64\n",
      "SEMIO_SOZ                797837 non-null float64\n",
      "SEMIO_FAM                797837 non-null float64\n",
      "SEMIO_REL                797837 non-null float64\n",
      "SEMIO_MAT                797837 non-null float64\n",
      "SEMIO_VERT               797837 non-null float64\n",
      "SEMIO_LUST               797837 non-null float64\n",
      "SEMIO_ERL                797837 non-null float64\n",
      "SEMIO_KULT               797837 non-null float64\n",
      "SEMIO_RAT                797837 non-null float64\n",
      "SEMIO_KRIT               797837 non-null float64\n",
      "SEMIO_DOM                797837 non-null float64\n",
      "SEMIO_KAEM               797837 non-null float64\n",
      "SEMIO_PFLICHT            797837 non-null float64\n",
      "SEMIO_TRADV              797837 non-null float64\n",
      "SOHO_KZ                  797837 non-null float64\n",
      "VERS_TYP                 761193 non-null float64\n",
      "ANZ_PERSONEN             797837 non-null float64\n",
      "ANZ_TITEL                797837 non-null float64\n",
      "HH_EINKOMMEN_SCORE       797837 non-null float64\n",
      "W_KEIT_KIND_HH           738660 non-null float64\n",
      "WOHNDAUER_2008           797837 non-null float64\n",
      "ANZ_HAUSHALTE_AKTIV      791424 non-null float64\n",
      "ANZ_HH_TITEL             794027 non-null float64\n",
      "KONSUMNAEHE              797767 non-null float64\n",
      "MIN_GEBAEUDEJAHR         797837 non-null float64\n",
      "OST_WEST_KZ              797837 non-null int64\n",
      "WOHNLAGE                 797837 non-null float64\n",
      "CAMEO_INTL_2015          791768 non-null object\n",
      "KBA05_ANTG1              757897 non-null float64\n",
      "KBA05_ANTG2              757897 non-null float64\n",
      "KBA05_ANTG3              757897 non-null float64\n",
      "KBA05_ANTG4              757897 non-null float64\n",
      "KBA05_GBZ                757897 non-null float64\n",
      "BALLRAUM                 797245 non-null float64\n",
      "EWDICHTE                 797245 non-null float64\n",
      "INNENSTADT               797245 non-null float64\n",
      "GEBAEUDETYP_RASTER       797830 non-null float64\n",
      "KKK                      733119 non-null float64\n",
      "MOBI_REGIO               757897 non-null float64\n",
      "ONLINE_AFFINITAET        793171 non-null float64\n",
      "REGIOTYP                 733119 non-null float64\n",
      "KBA13_ANZAHL_PKW         785363 non-null float64\n",
      "PLZ8_ANTG1               774705 non-null float64\n",
      "PLZ8_ANTG2               774705 non-null float64\n",
      "PLZ8_ANTG3               774705 non-null float64\n",
      "PLZ8_ANTG4               774705 non-null float64\n",
      "PLZ8_BAUMAX              774705 non-null float64\n",
      "PLZ8_HHZ                 774705 non-null float64\n",
      "PLZ8_GBZ                 774705 non-null float64\n",
      "ARBEIT                   793613 non-null float64\n",
      "ORTSGR_KLS9              793714 non-null float64\n",
      "RELAT_AB                 793613 non-null float64\n",
      "dtypes: float64(63), int64(2), object(1)\n",
      "memory usage: 407.8+ MB\n"
     ]
    }
   ],
   "source": [
    "azdias_clean = azdias_b30.copy()\n",
    "\n",
    "for fea in binary_flist:\n",
    "    azdias_clean[fea].replace(azdias_b30[fea].value_counts().index, [0,1], inplace = True)\n",
    "\n",
    "# drop multi-level categorical features\n",
    "azdias_clean.drop(multi_flist, axis=1, inplace = True)\n",
    "\n",
    "azdias_clean.info()"
   ]
  },
  {
   "cell_type": "code",
   "execution_count": 23,
   "metadata": {},
   "outputs": [
    {
     "data": {
      "text/plain": [
       "51    133691\n",
       "41     92336\n",
       "24     91145\n",
       "14     62877\n",
       "43     56669\n",
       "54     45388\n",
       "25     39619\n",
       "22     33146\n",
       "23     26728\n",
       "13     26330\n",
       "45     26132\n",
       "55     23953\n",
       "52     20542\n",
       "31     19009\n",
       "34     18522\n",
       "15     16974\n",
       "44     14820\n",
       "12     13244\n",
       "35     10355\n",
       "32     10354\n",
       "33      9934\n",
       "Name: CAMEO_INTL_2015, dtype: int64"
      ]
     },
     "execution_count": 23,
     "metadata": {},
     "output_type": "execute_result"
    }
   ],
   "source": [
    "azdias_clean['CAMEO_INTL_2015'].value_counts()"
   ]
  },
  {
   "cell_type": "code",
   "execution_count": 24,
   "metadata": {},
   "outputs": [],
   "source": [
    "azdias_clean['CAMEO_INTL_2015'] = azdias_clean['CAMEO_INTL_2015'].apply(float)"
   ]
  },
  {
   "cell_type": "markdown",
   "metadata": {},
   "source": [
    "#### Discussion 1.2.1: Re-Encode Categorical Features\n",
    "\n",
    "I did the following in this section:\n",
    "\n",
    "- Re-encode all binary categorical features into dummy 0-1 valued dummies.\n",
    "- Discard all other categorical features which have more than 2 levels/values.\n",
    "- Feature 'CAMEO_INTL_2015' was in string format but had all numerical values. I tranformed it into float format."
   ]
  },
  {
   "cell_type": "markdown",
   "metadata": {},
   "source": [
    "#### Step 1.2.2: Engineer Mixed-Type Features\n",
    "\n",
    "There are a handful of features that are marked as \"mixed\" in the feature summary that require special treatment in order to be included in the analysis. There are two in particular that deserve attention; the handling of the rest are up to your own choices:\n",
    "- \"PRAEGENDE_JUGENDJAHRE\" combines information on three dimensions: generation by decade, movement (mainstream vs. avantgarde), and nation (east vs. west). While there aren't enough levels to disentangle east from west, you should create two new variables to capture the other two dimensions: an interval-type variable for decade, and a binary variable for movement.\n",
    "- \"CAMEO_INTL_2015\" combines information on two axes: wealth and life stage. Break up the two-digit codes by their 'tens'-place and 'ones'-place digits into two new ordinal variables (which, for the purposes of this project, is equivalent to just treating them as their raw numeric values).\n",
    "- If you decide to keep or engineer new features around the other mixed-type features, make sure you note your steps in the Discussion section.\n",
    "\n",
    "Be sure to check `Data_Dictionary.md` for the details needed to finish these tasks."
   ]
  },
  {
   "cell_type": "code",
   "execution_count": 25,
   "metadata": {},
   "outputs": [],
   "source": [
    "# Investigate \"PRAEGENDE_JUGENDJAHRE\" and engineer two new variables.\n",
    "# azdias_clean['PRAEGENDE_JUGENDJAHRE'].value_counts()\n",
    "decade_map   = {1:1, 2:1, \n",
    "                3:2, 4:2, \n",
    "                5:3, 6:3, 7:3, \n",
    "                8:4, 9:4, \n",
    "                10:5, 11:5, 12:5, 13:5, \n",
    "                14:6, 15:6}\n",
    "movement_map = {1:1, 3:1, 5:1, 8:1, 10:1, 12:1, 14:1,\n",
    "                2:0, 4:0, 6:0, 7:0,  9:0, 11:0, 13:0, 15:0}\n",
    "azdias_clean['DECADE']   = azdias_clean['PRAEGENDE_JUGENDJAHRE'].replace(decade_map)\n",
    "azdias_clean['MOVEMENT'] = azdias_clean['PRAEGENDE_JUGENDJAHRE'].replace(movement_map)\n",
    "\n",
    "# azdias_clean['DECADE'].value_counts()\n",
    "# azdias_clean['MOVEMENT'].value_counts()"
   ]
  },
  {
   "cell_type": "code",
   "execution_count": 26,
   "metadata": {},
   "outputs": [
    {
     "data": {
      "text/plain": [
       "51.0    133691\n",
       "41.0     92336\n",
       "24.0     91145\n",
       "14.0     62877\n",
       "43.0     56669\n",
       "54.0     45388\n",
       "25.0     39619\n",
       "22.0     33146\n",
       "23.0     26728\n",
       "13.0     26330\n",
       "45.0     26132\n",
       "55.0     23953\n",
       "52.0     20542\n",
       "31.0     19009\n",
       "34.0     18522\n",
       "15.0     16974\n",
       "44.0     14820\n",
       "12.0     13244\n",
       "35.0     10355\n",
       "32.0     10354\n",
       "33.0      9934\n",
       "Name: CAMEO_INTL_2015, dtype: int64"
      ]
     },
     "execution_count": 26,
     "metadata": {},
     "output_type": "execute_result"
    }
   ],
   "source": [
    "azdias_clean['CAMEO_INTL_2015'].value_counts()"
   ]
  },
  {
   "cell_type": "code",
   "execution_count": 27,
   "metadata": {},
   "outputs": [
    {
     "data": {
      "text/plain": [
       "5.0    223574\n",
       "2.0    190638\n",
       "4.0    189957\n",
       "1.0    119425\n",
       "3.0     68174\n",
       "Name: WEALTH, dtype: int64"
      ]
     },
     "execution_count": 27,
     "metadata": {},
     "output_type": "execute_result"
    }
   ],
   "source": [
    "# Investigate \"CAMEO_INTL_2015\" and engineer two new variables.\n",
    "azdias_clean['WEALTH'] = azdias_clean['CAMEO_INTL_2015'] // 10\n",
    "azdias_clean['WEALTH'].value_counts()"
   ]
  },
  {
   "cell_type": "code",
   "execution_count": 28,
   "metadata": {},
   "outputs": [
    {
     "data": {
      "text/plain": [
       "1.0    245036\n",
       "4.0    232752\n",
       "3.0    119661\n",
       "5.0    117033\n",
       "2.0     77286\n",
       "Name: LIFE_STAGE, dtype: int64"
      ]
     },
     "execution_count": 28,
     "metadata": {},
     "output_type": "execute_result"
    }
   ],
   "source": [
    "azdias_clean['LIFE_STAGE'] = azdias_clean['CAMEO_INTL_2015'] % 10\n",
    "azdias_clean['LIFE_STAGE'].value_counts()"
   ]
  },
  {
   "cell_type": "code",
   "execution_count": 29,
   "metadata": {},
   "outputs": [
    {
     "name": "stdout",
     "output_type": "stream",
     "text": [
      "['LP_LEBENSPHASE_FEIN', 'LP_LEBENSPHASE_GROB', 'PRAEGENDE_JUGENDJAHRE', 'WOHNLAGE', 'CAMEO_INTL_2015', 'PLZ8_BAUMAX']\n"
     ]
    }
   ],
   "source": [
    "# azdias_clean.drop(['CAMEO_INTL_2015', 'PRAEGENDE_JUGENDJAHRE'], axis=1, inplace=True)\n",
    "col_drop_list = list(feat_info_updated[feat_info_updated[\"type\"] == \"mixed\"][\"attribute\"])\n",
    "print(col_drop_list)\n",
    "azdias_clean.drop(col_drop_list, axis=1, inplace=True)"
   ]
  },
  {
   "cell_type": "markdown",
   "metadata": {},
   "source": [
    "#### Discussion 1.2.2: Engineer Mixed-Type Features\n",
    "\n",
    "1. I decomposed `PRAEGENDE_JUGENDJAHRE` into two features `DECADE` and `MOVEMENT`\n",
    "2. I decomposed `CAMEO_INTL_2015` into two features `WEALTH` and `LIFE_STAGE`\n",
    "3. I dropped `PRAEGENDE_JUGENDJAHRE` and `CAMEO_INTL_2015` since their information has been inherited by the four new features. \n",
    "4. I also dropped the other four \"mixed\" features."
   ]
  },
  {
   "cell_type": "markdown",
   "metadata": {},
   "source": [
    "#### Step 1.2.3: Complete Feature Selection\n",
    "\n",
    "In order to finish this step up, you need to make sure that your data frame now only has the columns that you want to keep. To summarize, the dataframe should consist of the following:\n",
    "- All numeric, interval, and ordinal type columns from the original dataset.\n",
    "- Binary categorical features (all numerically-encoded).\n",
    "- Engineered features from other multi-level categorical features and mixed features.\n",
    "\n",
    "Make sure that for any new columns that you have engineered, that you've excluded the original columns from the final dataset. Otherwise, their values will interfere with the analysis later on the project. For example, you should not keep \"PRAEGENDE_JUGENDJAHRE\", since its values won't be useful for the algorithm: only the values derived from it in the engineered features you created should be retained. As a reminder, your data should only be from **the subset with few or no missing values**."
   ]
  },
  {
   "cell_type": "code",
   "execution_count": 30,
   "metadata": {},
   "outputs": [],
   "source": [
    "# If there are other re-engineering tasks you need to perform, make sure you\n",
    "# take care of them here. (Dealing with missing data will come in step 2.1.)"
   ]
  },
  {
   "cell_type": "code",
   "execution_count": 31,
   "metadata": {
    "scrolled": false
   },
   "outputs": [
    {
     "name": "stdout",
     "output_type": "stream",
     "text": [
      "ordinal        49\n",
      "numeric         6\n",
      "categorical     5\n",
      "Name: type, dtype: int64\n"
     ]
    }
   ],
   "source": [
    "# Do whatever you need to in order to ensure that the dataframe only contains\n",
    "# the columns that should be passed to the algorithm functions.\n",
    "print(feat_info_updated[feat_info_updated['attribute'].isin(azdias_clean.columns)]['type'].value_counts())\n",
    "# print('--------------------------------')\n",
    "\n",
    "# for key in azdias_clean:\n",
    "#     print(azdias_clean[key].describe())\n",
    "#     print('----------------------')"
   ]
  },
  {
   "cell_type": "markdown",
   "metadata": {},
   "source": [
    "### Step 1.3: Create a Cleaning Function\n",
    "\n",
    "Even though you've finished cleaning up the general population demographics data, it's important to look ahead to the future and realize that you'll need to perform the same cleaning steps on the customer demographics data. In this substep, complete the function below to execute the main feature selection, encoding, and re-engineering steps you performed above. Then, when it comes to looking at the customer data in Step 3, you can just run this function on that DataFrame to get the trimmed dataset in a single step."
   ]
  },
  {
   "cell_type": "code",
   "execution_count": 32,
   "metadata": {},
   "outputs": [],
   "source": [
    "def clean_data(df):\n",
    "    \"\"\"\n",
    "    Perform feature trimming, re-encoding, and engineering for demographics\n",
    "    data\n",
    "    \n",
    "    INPUT: Demographics DataFrame\n",
    "    OUTPUT: Trimmed and cleaned demographics DataFrame\n",
    "    \"\"\"\n",
    "    df = df.copy(deep=True)\n",
    "    \n",
    "    # Put in code here to execute all main cleaning steps:\n",
    "    # convert missing value codes into NaNs, ...\n",
    "    for ii, key in enumerate(feat_info['attribute']):\n",
    "        missing_or_unknown = feat_info['missing_or_unknown'][ii]\n",
    "        missing_or_unknown = missing_or_unknown[1:-1].split(',') # returns a list of strings\n",
    "\n",
    "        if missing_or_unknown[0]: # make sure missing_or_unknown contains something; '' will be skipped\n",
    "            if   df[key].dtype == 'int64':\n",
    "                missing_or_unknown = [int(x) for x in missing_or_unknown]\n",
    "            elif df[key].dtype == 'float64':\n",
    "                missing_or_unknown = [float(x) for x in missing_or_unknown]\n",
    "            elif df[key].dtype == 'O':\n",
    "                pass # do not convert the type for string variables\n",
    "            else: \n",
    "                print(\"Warning: unknown data type\")    \n",
    "            df.loc[df[key].isin(missing_or_unknown), key] = np.nan\n",
    "    \n",
    "    # remove selected columns and rows, ...\n",
    "    # should be consistent in removing columns\n",
    "    \n",
    "#     missing_percentage = df.isnull().mean() * 100\n",
    "#     rm_list = missing_percentage[missing_percentage > 20].index\n",
    "#     df.drop(rm_list, axis = 1, inplace = True)\n",
    "    rm_list = ['AGER_TYP', 'GEBURTSJAHR', 'TITEL_KZ', 'ALTER_HH', 'KK_KUNDENTYP', 'KBA05_BAUMAX']\n",
    "    df.drop(rm_list, axis = 1, inplace = True)\n",
    "    \n",
    "    missing_percentage_row = df.isnull().mean(axis = 1) * 100\n",
    "    df = df[missing_percentage_row <  30]\n",
    "\n",
    "    # select, re-encode, and engineer column values.\n",
    "    feat_info_updated = feat_info[~feat_info['attribute'].isin(rm_list)]\n",
    "    cat_features      = feat_info_updated[feat_info_updated[\"type\"] == \"categorical\"][\"attribute\"]\n",
    "    binary_flist = []\n",
    "    multi_flist  = []\n",
    "\n",
    "    for fea in cat_features:\n",
    "        if len(df[fea].value_counts()) == 2:\n",
    "            binary_flist.append(fea)\n",
    "        else:\n",
    "            multi_flist.append(fea)\n",
    "\n",
    "    for fea in binary_flist:\n",
    "        df[fea].replace(df[fea].value_counts().index, [0,1], inplace = True)\n",
    "\n",
    "    df.drop(multi_flist, axis=1, inplace = True)\n",
    "    \n",
    "#     print(df['CAMEO_INTL_2015'].value_counts())\n",
    "    df['CAMEO_INTL_2015'] = df['CAMEO_INTL_2015'].apply(float)\n",
    "    \n",
    "    df['WEALTH'] = df['CAMEO_INTL_2015'] // 10\n",
    "    df['LIFE_STAGE'] = df['CAMEO_INTL_2015'] % 10\n",
    "    \n",
    "    decade_map   = {1:1, 2:1, \n",
    "                    3:2, 4:2, \n",
    "                    5:3, 6:3, 7:3, \n",
    "                    8:4, 9:4, \n",
    "                    10:5, 11:5, 12:5, 13:5, \n",
    "                    14:6, 15:6}\n",
    "    movement_map = {1:1, 3:1, 5:1, 8:1, 10:1, 12:1, 14:1,\n",
    "                    2:0, 4:0, 6:0, 7:0,  9:0, 11:0, 13:0, 15:0}\n",
    "    \n",
    "    df['DECADE']   = df['PRAEGENDE_JUGENDJAHRE'].replace(decade_map)\n",
    "    df['MOVEMENT'] = df['PRAEGENDE_JUGENDJAHRE'].replace(movement_map)\n",
    "    \n",
    "    col_drop_list = list(feat_info_updated[feat_info_updated[\"type\"] == \"mixed\"][\"attribute\"])\n",
    "    df.drop(col_drop_list, axis=1, inplace=True)\n",
    "    \n",
    "    # Return the cleaned dataframe.\n",
    "    return df"
   ]
  },
  {
   "cell_type": "code",
   "execution_count": 33,
   "metadata": {},
   "outputs": [],
   "source": [
    "azdias = pd.read_csv('Udacity_AZDIAS_Subset.csv', sep = ';') # reload and check the function\n",
    "azdias_clean2 = clean_data(azdias)"
   ]
  },
  {
   "cell_type": "code",
   "execution_count": 34,
   "metadata": {},
   "outputs": [
    {
     "name": "stdout",
     "output_type": "stream",
     "text": [
      "(797837, 64)\n",
      "(797837, 64)\n"
     ]
    }
   ],
   "source": [
    "print(azdias_clean.shape)\n",
    "print(azdias_clean2.shape)"
   ]
  },
  {
   "cell_type": "code",
   "execution_count": 35,
   "metadata": {},
   "outputs": [],
   "source": [
    "for col in azdias_clean:\n",
    "    if ( (azdias_clean[col] != azdias_clean2[col]) & (~azdias_clean[col].isna()) ).sum() > 0:\n",
    "        print(\"Warning: feature {:25} are not identical!\".format(col))"
   ]
  },
  {
   "cell_type": "markdown",
   "metadata": {},
   "source": [
    "No warning message appears; the function produces the same result as the previous code."
   ]
  },
  {
   "cell_type": "markdown",
   "metadata": {},
   "source": [
    "## Step 2: Feature Transformation\n",
    "\n",
    "### Step 2.1: Apply Feature Scaling\n",
    "\n",
    "Before we apply dimensionality reduction techniques to the data, we need to perform feature scaling so that the principal component vectors are not influenced by the natural differences in scale for features. Starting from this part of the project, you'll want to keep an eye on the [API reference page for sklearn](http://scikit-learn.org/stable/modules/classes.html) to help you navigate to all of the classes and functions that you'll need. In this substep, you'll need to check the following:\n",
    "\n",
    "- sklearn requires that data not have missing values in order for its estimators to work properly. So, before applying the scaler to your data, make sure that you've cleaned the DataFrame of the remaining missing values. This can be as simple as just removing all data points with missing data, or applying an [Imputer](http://scikit-learn.org/stable/modules/generated/sklearn.preprocessing.Imputer.html) to replace all missing values. You might also try a more complicated procedure where you temporarily remove missing values in order to compute the scaling parameters before re-introducing those missing values and applying imputation. Think about how much missing data you have and what possible effects each approach might have on your analysis, and justify your decision in the discussion section below.\n",
    "- For the actual scaling function, a [StandardScaler](http://scikit-learn.org/stable/modules/generated/sklearn.preprocessing.StandardScaler.html) instance is suggested, scaling each feature to mean 0 and standard deviation 1.\n",
    "- For these classes, you can make use of the `.fit_transform()` method to both fit a procedure to the data as well as apply the transformation to the data at the same time. Don't forget to keep the fit sklearn objects handy, since you'll be applying them to the customer demographics data towards the end of the project."
   ]
  },
  {
   "cell_type": "code",
   "execution_count": 36,
   "metadata": {},
   "outputs": [],
   "source": [
    "# If you've not yet cleaned the dataset of all NaN values, then investigate and\n",
    "# do that now.\n",
    "# imputer = Imputer(strategy='median')\n",
    "imputer       = Imputer(strategy='most_frequent')\n",
    "azdias_filled = imputer.fit_transform(azdias_clean)\n",
    "# print('numbers if nan in filled data: {}.'.format((azdias_scaled == np.nan).sum()))"
   ]
  },
  {
   "cell_type": "code",
   "execution_count": 37,
   "metadata": {},
   "outputs": [],
   "source": [
    "# Apply feature scaling to the general population demographics data.\n",
    "scaler        = StandardScaler()\n",
    "azdias_scaled = scaler.fit_transform(azdias_filled)"
   ]
  },
  {
   "cell_type": "code",
   "execution_count": 38,
   "metadata": {},
   "outputs": [
    {
     "data": {
      "text/html": [
       "<div>\n",
       "<style scoped>\n",
       "    .dataframe tbody tr th:only-of-type {\n",
       "        vertical-align: middle;\n",
       "    }\n",
       "\n",
       "    .dataframe tbody tr th {\n",
       "        vertical-align: top;\n",
       "    }\n",
       "\n",
       "    .dataframe thead th {\n",
       "        text-align: right;\n",
       "    }\n",
       "</style>\n",
       "<table border=\"1\" class=\"dataframe\">\n",
       "  <thead>\n",
       "    <tr style=\"text-align: right;\">\n",
       "      <th></th>\n",
       "      <th>ALTERSKATEGORIE_GROB</th>\n",
       "      <th>ANREDE_KZ</th>\n",
       "      <th>FINANZ_MINIMALIST</th>\n",
       "      <th>FINANZ_SPARER</th>\n",
       "      <th>FINANZ_VORSORGER</th>\n",
       "      <th>FINANZ_ANLEGER</th>\n",
       "      <th>FINANZ_UNAUFFAELLIGER</th>\n",
       "      <th>FINANZ_HAUSBAUER</th>\n",
       "      <th>GREEN_AVANTGARDE</th>\n",
       "      <th>HEALTH_TYP</th>\n",
       "      <th>...</th>\n",
       "      <th>PLZ8_ANTG4</th>\n",
       "      <th>PLZ8_HHZ</th>\n",
       "      <th>PLZ8_GBZ</th>\n",
       "      <th>ARBEIT</th>\n",
       "      <th>ORTSGR_KLS9</th>\n",
       "      <th>RELAT_AB</th>\n",
       "      <th>DECADE</th>\n",
       "      <th>MOVEMENT</th>\n",
       "      <th>WEALTH</th>\n",
       "      <th>LIFE_STAGE</th>\n",
       "    </tr>\n",
       "  </thead>\n",
       "  <tbody>\n",
       "    <tr>\n",
       "      <th>0</th>\n",
       "      <td>-1.766591</td>\n",
       "      <td>-0.957932</td>\n",
       "      <td>-1.494575</td>\n",
       "      <td>1.537983</td>\n",
       "      <td>-1.040685</td>\n",
       "      <td>1.466063</td>\n",
       "      <td>0.958965</td>\n",
       "      <td>1.339139</td>\n",
       "      <td>-0.53045</td>\n",
       "      <td>1.010194</td>\n",
       "      <td>...</td>\n",
       "      <td>0.442257</td>\n",
       "      <td>1.455548</td>\n",
       "      <td>0.574142</td>\n",
       "      <td>-0.171483</td>\n",
       "      <td>-0.127090</td>\n",
       "      <td>0.684827</td>\n",
       "      <td>1.098199</td>\n",
       "      <td>0.53045</td>\n",
       "      <td>1.175802</td>\n",
       "      <td>-1.249121</td>\n",
       "    </tr>\n",
       "    <tr>\n",
       "      <th>1</th>\n",
       "      <td>0.200523</td>\n",
       "      <td>-0.957932</td>\n",
       "      <td>-1.494575</td>\n",
       "      <td>0.864621</td>\n",
       "      <td>-1.766949</td>\n",
       "      <td>-0.570955</td>\n",
       "      <td>0.244386</td>\n",
       "      <td>1.339139</td>\n",
       "      <td>1.88519</td>\n",
       "      <td>1.010194</td>\n",
       "      <td>...</td>\n",
       "      <td>-0.935044</td>\n",
       "      <td>0.419532</td>\n",
       "      <td>0.574142</td>\n",
       "      <td>-0.171483</td>\n",
       "      <td>-0.127090</td>\n",
       "      <td>-0.789074</td>\n",
       "      <td>1.098199</td>\n",
       "      <td>-1.88519</td>\n",
       "      <td>-0.869591</td>\n",
       "      <td>0.766923</td>\n",
       "    </tr>\n",
       "    <tr>\n",
       "      <th>2</th>\n",
       "      <td>1.184079</td>\n",
       "      <td>-0.957932</td>\n",
       "      <td>0.683195</td>\n",
       "      <td>-0.482102</td>\n",
       "      <td>1.138107</td>\n",
       "      <td>-0.570955</td>\n",
       "      <td>-1.184772</td>\n",
       "      <td>-0.791524</td>\n",
       "      <td>-0.53045</td>\n",
       "      <td>-0.311814</td>\n",
       "      <td>...</td>\n",
       "      <td>-0.935044</td>\n",
       "      <td>-0.616484</td>\n",
       "      <td>0.574142</td>\n",
       "      <td>-1.173235</td>\n",
       "      <td>-0.997615</td>\n",
       "      <td>-0.052124</td>\n",
       "      <td>-0.267643</td>\n",
       "      <td>0.53045</td>\n",
       "      <td>-1.551389</td>\n",
       "      <td>-0.577106</td>\n",
       "    </tr>\n",
       "    <tr>\n",
       "      <th>3</th>\n",
       "      <td>0.200523</td>\n",
       "      <td>1.043916</td>\n",
       "      <td>0.683195</td>\n",
       "      <td>0.191259</td>\n",
       "      <td>0.411843</td>\n",
       "      <td>-1.249961</td>\n",
       "      <td>0.244386</td>\n",
       "      <td>-0.791524</td>\n",
       "      <td>-0.53045</td>\n",
       "      <td>1.010194</td>\n",
       "      <td>...</td>\n",
       "      <td>0.442257</td>\n",
       "      <td>-0.616484</td>\n",
       "      <td>-0.337246</td>\n",
       "      <td>0.830269</td>\n",
       "      <td>0.308172</td>\n",
       "      <td>1.421778</td>\n",
       "      <td>-0.267643</td>\n",
       "      <td>0.53045</td>\n",
       "      <td>0.494005</td>\n",
       "      <td>0.094908</td>\n",
       "    </tr>\n",
       "    <tr>\n",
       "      <th>4</th>\n",
       "      <td>-1.766591</td>\n",
       "      <td>-0.957932</td>\n",
       "      <td>-0.042728</td>\n",
       "      <td>-1.155464</td>\n",
       "      <td>1.138107</td>\n",
       "      <td>-0.570955</td>\n",
       "      <td>-0.470193</td>\n",
       "      <td>1.339139</td>\n",
       "      <td>-0.53045</td>\n",
       "      <td>1.010194</td>\n",
       "      <td>...</td>\n",
       "      <td>0.442257</td>\n",
       "      <td>1.455548</td>\n",
       "      <td>1.485530</td>\n",
       "      <td>-1.173235</td>\n",
       "      <td>-0.997615</td>\n",
       "      <td>-0.052124</td>\n",
       "      <td>-1.633486</td>\n",
       "      <td>0.53045</td>\n",
       "      <td>1.175802</td>\n",
       "      <td>0.766923</td>\n",
       "    </tr>\n",
       "  </tbody>\n",
       "</table>\n",
       "<p>5 rows × 64 columns</p>\n",
       "</div>"
      ],
      "text/plain": [
       "   ALTERSKATEGORIE_GROB  ANREDE_KZ  FINANZ_MINIMALIST  FINANZ_SPARER  \\\n",
       "0             -1.766591  -0.957932          -1.494575       1.537983   \n",
       "1              0.200523  -0.957932          -1.494575       0.864621   \n",
       "2              1.184079  -0.957932           0.683195      -0.482102   \n",
       "3              0.200523   1.043916           0.683195       0.191259   \n",
       "4             -1.766591  -0.957932          -0.042728      -1.155464   \n",
       "\n",
       "   FINANZ_VORSORGER  FINANZ_ANLEGER  FINANZ_UNAUFFAELLIGER  FINANZ_HAUSBAUER  \\\n",
       "0         -1.040685        1.466063               0.958965          1.339139   \n",
       "1         -1.766949       -0.570955               0.244386          1.339139   \n",
       "2          1.138107       -0.570955              -1.184772         -0.791524   \n",
       "3          0.411843       -1.249961               0.244386         -0.791524   \n",
       "4          1.138107       -0.570955              -0.470193          1.339139   \n",
       "\n",
       "   GREEN_AVANTGARDE  HEALTH_TYP     ...      PLZ8_ANTG4  PLZ8_HHZ  PLZ8_GBZ  \\\n",
       "0          -0.53045    1.010194     ...        0.442257  1.455548  0.574142   \n",
       "1           1.88519    1.010194     ...       -0.935044  0.419532  0.574142   \n",
       "2          -0.53045   -0.311814     ...       -0.935044 -0.616484  0.574142   \n",
       "3          -0.53045    1.010194     ...        0.442257 -0.616484 -0.337246   \n",
       "4          -0.53045    1.010194     ...        0.442257  1.455548  1.485530   \n",
       "\n",
       "     ARBEIT  ORTSGR_KLS9  RELAT_AB    DECADE  MOVEMENT    WEALTH  LIFE_STAGE  \n",
       "0 -0.171483    -0.127090  0.684827  1.098199   0.53045  1.175802   -1.249121  \n",
       "1 -0.171483    -0.127090 -0.789074  1.098199  -1.88519 -0.869591    0.766923  \n",
       "2 -1.173235    -0.997615 -0.052124 -0.267643   0.53045 -1.551389   -0.577106  \n",
       "3  0.830269     0.308172  1.421778 -0.267643   0.53045  0.494005    0.094908  \n",
       "4 -1.173235    -0.997615 -0.052124 -1.633486   0.53045  1.175802    0.766923  \n",
       "\n",
       "[5 rows x 64 columns]"
      ]
     },
     "execution_count": 38,
     "metadata": {},
     "output_type": "execute_result"
    }
   ],
   "source": [
    "azdias_final = pd.DataFrame(azdias_scaled, columns = azdias_clean.columns)\n",
    "azdias_final.head()"
   ]
  },
  {
   "cell_type": "markdown",
   "metadata": {},
   "source": [
    "### Discussion 2.1: Apply Feature Scaling\n",
    "\n",
    "- Filled NAN values with the mode\n",
    "- Standardized all features"
   ]
  },
  {
   "cell_type": "markdown",
   "metadata": {},
   "source": [
    "### Step 2.2: Perform Dimensionality Reduction\n",
    "\n",
    "On your scaled data, you are now ready to apply dimensionality reduction techniques.\n",
    "\n",
    "- Use sklearn's [PCA](http://scikit-learn.org/stable/modules/generated/sklearn.decomposition.PCA.html) class to apply principal component analysis on the data, thus finding the vectors of maximal variance in the data. To start, you should not set any parameters (so all components are computed) or set a number of components that is at least half the number of features (so there's enough features to see the general trend in variability).\n",
    "- Check out the ratio of variance explained by each principal component as well as the cumulative variance explained. Try plotting the cumulative or sequential values using matplotlib's [`plot()`](https://matplotlib.org/api/_as_gen/matplotlib.pyplot.plot.html) function. Based on what you find, select a value for the number of transformed features you'll retain for the clustering part of the project.\n",
    "- Once you've made a choice for the number of components to keep, make sure you re-fit a PCA instance to perform the decided-on transformation."
   ]
  },
  {
   "cell_type": "code",
   "execution_count": 39,
   "metadata": {},
   "outputs": [
    {
     "data": {
      "text/plain": [
       "PCA(copy=True, iterated_power='auto', n_components=32, random_state=None,\n",
       "  svd_solver='auto', tol=0.0, whiten=False)"
      ]
     },
     "execution_count": 39,
     "metadata": {},
     "output_type": "execute_result"
    }
   ],
   "source": [
    "# Apply PCA to the data.\n",
    "pca_test = PCA(32)\n",
    "pca_test.fit(azdias_final)"
   ]
  },
  {
   "cell_type": "code",
   "execution_count": 40,
   "metadata": {},
   "outputs": [
    {
     "data": {
      "image/png": "[encoded data removed]",
      "text/plain": [
       "<matplotlib.figure.Figure at 0x7f5f7d602e80>"
      ]
     },
     "metadata": {
      "needs_background": "light"
     },
     "output_type": "display_data"
    }
   ],
   "source": [
    "# Investigate the variance accounted for by each principal component.\n",
    "\n",
    "def scree_plot(pca):\n",
    "    '''\n",
    "    Creates a scree plot associated with the principal components \n",
    "    \n",
    "    INPUT: pca - the result of instantian of PCA in scikit learn\n",
    "            \n",
    "    OUTPUT:\n",
    "            None\n",
    "    '''\n",
    "    num_components = len(pca.explained_variance_ratio_)\n",
    "    ind = np.arange(num_components)\n",
    "    vals = pca.explained_variance_ratio_\n",
    " \n",
    "    plt.figure(figsize=(16, 6))\n",
    "    ax = plt.subplot(111)\n",
    "    cumvals = np.cumsum(vals)\n",
    "    ax.bar(ind, vals)\n",
    "    ax.plot(ind, cumvals)\n",
    "    for i in range(num_components):\n",
    "        ax.annotate(r\"%s%%\" % ((str(vals[i]*100)[:4])), (ind[i]+0.2, vals[i]), \\\n",
    "                    va=\"bottom\", ha=\"center\", fontsize=12, rotation=270)\n",
    " \n",
    "    ax.xaxis.set_tick_params(width=0)\n",
    "    ax.yaxis.set_tick_params(width=2, length=12)\n",
    " \n",
    "    ax.set_xlabel(\"Principal Component\")\n",
    "    ax.set_ylabel(\"Variance Explained (%)\")\n",
    "    plt.title('Explained Variance Per Principal Component')\n",
    "    \n",
    "\n",
    "scree_plot(pca_test)"
   ]
  },
  {
   "cell_type": "code",
   "execution_count": 41,
   "metadata": {},
   "outputs": [],
   "source": [
    "# Re-apply PCA to the data while selecting for number of components to retain.\n",
    "pca   = PCA(10)\n",
    "X_pca = pca.fit_transform(azdias_final)"
   ]
  },
  {
   "cell_type": "markdown",
   "metadata": {},
   "source": [
    "### Discussion 2.2: Perform Dimensionality Reduction\n",
    "\n",
    "The cumulative line is rather smooth. I pick the number of components to be 10, which can roughtly exlain 60% of the variation in data. "
   ]
  },
  {
   "cell_type": "markdown",
   "metadata": {},
   "source": [
    "### Step 2.3: Interpret Principal Components\n",
    "\n",
    "Now that we have our transformed principal components, it's a nice idea to check out the weight of each variable on the first few components to see if they can be interpreted in some fashion.\n",
    "\n",
    "As a reminder, each principal component is a unit vector that points in the direction of highest variance (after accounting for the variance captured by earlier principal components). The further a weight is from zero, the more the principal component is in the direction of the corresponding feature. If two features have large weights of the same sign (both positive or both negative), then increases in one tend expect to be associated with increases in the other. To contrast, features with different signs can be expected to show a negative correlation: increases in one variable should result in a decrease in the other.\n",
    "\n",
    "- To investigate the features, you should map each weight to their corresponding feature name, then sort the features according to weight. The most interesting features for each principal component, then, will be those at the beginning and end of the sorted list. Use the data dictionary document to help you understand these most prominent features, their relationships, and what a positive or negative value on the principal component might indicate.\n",
    "- You should investigate and interpret feature associations from the first three principal components in this substep. To help facilitate this, you should write a function that you can call at any time to print the sorted list of feature weights, for the *i*-th principal component. This might come in handy in the next step of the project, when you interpret the tendencies of the discovered clusters."
   ]
  },
  {
   "cell_type": "code",
   "execution_count": 42,
   "metadata": {},
   "outputs": [
    {
     "name": "stdout",
     "output_type": "stream",
     "text": [
      "PLZ8_ANTG3               0.2253\n",
      "PLZ8_ANTG4               0.2169\n",
      "WEALTH                   0.2047\n",
      "HH_EINKOMMEN_SCORE       0.2022\n",
      "ORTSGR_KLS9              0.1968\n",
      "EWDICHTE                 0.1947\n",
      "FINANZ_HAUSBAUER         0.1595\n",
      "KBA05_ANTG4              0.1540\n",
      "PLZ8_ANTG2               0.1537\n",
      "FINANZ_SPARER            0.1531\n",
      "ARBEIT                   0.1426\n",
      "KBA05_ANTG3              0.1367\n",
      "ANZ_HAUSHALTE_AKTIV      0.1361\n",
      "RELAT_AB                 0.1350\n",
      "SEMIO_PFLICHT            0.1211\n",
      "SEMIO_REL                0.1186\n",
      "DECADE                   0.1122\n",
      "MOVEMENT                 0.1102\n",
      "SEMIO_RAT                0.0995\n",
      "SEMIO_TRADV              0.0937\n",
      "SEMIO_MAT                0.0824\n",
      "SEMIO_FAM                0.0810\n",
      "FINANZ_UNAUFFAELLIGER    0.0810\n",
      "SEMIO_KULT               0.0755\n",
      "FINANZ_ANLEGER           0.0751\n",
      "REGIOTYP                 0.0603\n",
      "OST_WEST_KZ              0.0537\n",
      "SEMIO_SOZ                0.0433\n",
      "PLZ8_HHZ                 0.0422\n",
      "HEALTH_TYP               0.0412\n",
      "                          ...  \n",
      "SEMIO_DOM                0.0238\n",
      "KBA05_ANTG2              0.0137\n",
      "SEMIO_KRIT               0.0038\n",
      "SOHO_KZ                 -0.0020\n",
      "ANZ_TITEL               -0.0042\n",
      "ANREDE_KZ               -0.0075\n",
      "RETOURTYP_BK_S          -0.0217\n",
      "VERS_TYP                -0.0326\n",
      "SEMIO_VERT              -0.0406\n",
      "ONLINE_AFFINITAET       -0.0413\n",
      "MIN_GEBAEUDEJAHR        -0.0432\n",
      "WOHNDAUER_2008          -0.0612\n",
      "KBA13_ANZAHL_PKW        -0.0740\n",
      "SEMIO_LUST              -0.0769\n",
      "ANZ_PERSONEN            -0.0781\n",
      "SEMIO_ERL               -0.0801\n",
      "GREEN_AVANTGARDE        -0.1102\n",
      "GEBAEUDETYP_RASTER      -0.1172\n",
      "FINANZ_VORSORGER        -0.1201\n",
      "LIFE_STAGE              -0.1252\n",
      "ALTERSKATEGORIE_GROB    -0.1256\n",
      "BALLRAUM                -0.1273\n",
      "INNENSTADT              -0.1646\n",
      "PLZ8_GBZ                -0.1664\n",
      "KONSUMNAEHE             -0.1674\n",
      "KBA05_ANTG1             -0.2145\n",
      "KBA05_GBZ               -0.2161\n",
      "FINANZ_MINIMALIST       -0.2231\n",
      "MOBI_REGIO              -0.2249\n",
      "PLZ8_ANTG1              -0.2257\n",
      "Name: 0, Length: 64, dtype: float64\n"
     ]
    },
    {
     "data": {
      "image/png": "[encoded data removed]",
      "text/plain": [
       "<matplotlib.figure.Figure at 0x7f5f7d578be0>"
      ]
     },
     "metadata": {
      "needs_background": "light"
     },
     "output_type": "display_data"
    }
   ],
   "source": [
    "# Map weights for the first principal component to corresponding feature names\n",
    "# and then print the linked values, sorted by weight.\n",
    "# HINT: Try defining a function here or in a new cell that you can reuse in the\n",
    "# other cells.\n",
    "\n",
    "def pca_results(full_dataset, pca, n_th):\n",
    "\n",
    "    # PCA components\n",
    "    components = pd.DataFrame(np.round(pca.components_, 4), columns = full_dataset.keys())\n",
    "    n_th_component = components.iloc[n_th-1,:].sort_values(ascending=False)\n",
    "    \n",
    "    # Create a bar plot visualization\n",
    "    fig, ax = plt.subplots(figsize = (16,8))\n",
    "\n",
    "    # Plot the feature weights as a function of the components\n",
    "    n_th_component.plot(ax = ax, kind = 'bar');\n",
    "    ax.set_ylabel(\"Feature Weights\")\n",
    "    ax.set_title(\"The {}-th Principle Component\".format(n_th))\n",
    "    \n",
    "    return n_th_component\n",
    "\n",
    "component = pca_results(azdias_final, pca, 1)\n",
    "print(component)"
   ]
  },
  {
   "cell_type": "code",
   "execution_count": 43,
   "metadata": {
    "scrolled": false
   },
   "outputs": [
    {
     "name": "stdout",
     "output_type": "stream",
     "text": [
      "ALTERSKATEGORIE_GROB     0.2563\n",
      "SEMIO_ERL                0.2299\n",
      "FINANZ_VORSORGER         0.2293\n",
      "SEMIO_LUST               0.1801\n",
      "RETOURTYP_BK_S           0.1619\n",
      "FINANZ_HAUSBAUER         0.1218\n",
      "SEMIO_KRIT               0.1179\n",
      "SEMIO_KAEM               0.1164\n",
      "W_KEIT_KIND_HH           0.1148\n",
      "PLZ8_ANTG3               0.0984\n",
      "EWDICHTE                 0.0979\n",
      "ORTSGR_KLS9              0.0965\n",
      "PLZ8_ANTG4               0.0962\n",
      "WEALTH                   0.0792\n",
      "KBA05_ANTG4              0.0752\n",
      "SEMIO_DOM                0.0745\n",
      "ARBEIT                   0.0718\n",
      "RELAT_AB                 0.0693\n",
      "PLZ8_ANTG2               0.0681\n",
      "ANZ_HAUSHALTE_AKTIV      0.0664\n",
      "HH_EINKOMMEN_SCORE       0.0619\n",
      "FINANZ_MINIMALIST        0.0594\n",
      "WOHNDAUER_2008           0.0584\n",
      "KBA05_ANTG3              0.0505\n",
      "ANZ_HH_TITEL             0.0321\n",
      "OST_WEST_KZ              0.0275\n",
      "MOVEMENT                 0.0184\n",
      "PLZ8_HHZ                 0.0159\n",
      "REGIOTYP                 0.0119\n",
      "ANZ_TITEL                0.0068\n",
      "                          ...  \n",
      "GREEN_AVANTGARDE        -0.0184\n",
      "VERS_TYP                -0.0321\n",
      "KBA13_ANZAHL_PKW        -0.0379\n",
      "GEBAEUDETYP_RASTER      -0.0472\n",
      "MIN_GEBAEUDEJAHR        -0.0490\n",
      "HEALTH_TYP              -0.0570\n",
      "ANZ_PERSONEN            -0.0642\n",
      "BALLRAUM                -0.0647\n",
      "SEMIO_VERT              -0.0728\n",
      "KBA05_ANTG1             -0.0744\n",
      "KONSUMNAEHE             -0.0748\n",
      "PLZ8_GBZ                -0.0751\n",
      "INNENSTADT              -0.0796\n",
      "MOBI_REGIO              -0.0809\n",
      "KBA05_GBZ               -0.0923\n",
      "ANREDE_KZ               -0.0931\n",
      "PLZ8_ANTG1              -0.0963\n",
      "SEMIO_SOZ               -0.1032\n",
      "SEMIO_MAT               -0.1617\n",
      "ONLINE_AFFINITAET       -0.1654\n",
      "SEMIO_RAT               -0.1670\n",
      "SEMIO_FAM               -0.1843\n",
      "FINANZ_ANLEGER          -0.2027\n",
      "SEMIO_KULT              -0.2198\n",
      "SEMIO_PFLICHT           -0.2255\n",
      "FINANZ_UNAUFFAELLIGER   -0.2255\n",
      "SEMIO_TRADV             -0.2283\n",
      "FINANZ_SPARER           -0.2317\n",
      "DECADE                  -0.2386\n",
      "SEMIO_REL               -0.2537\n",
      "Name: 1, Length: 64, dtype: float64\n"
     ]
    },
    {
     "data": {
      "image/png": "[encoded data removed]",
      "text/plain": [
       "<matplotlib.figure.Figure at 0x7f5f7d9a6cc0>"
      ]
     },
     "metadata": {
      "needs_background": "light"
     },
     "output_type": "display_data"
    }
   ],
   "source": [
    "# Map weights for the second principal component to corresponding feature names\n",
    "# and then print the linked values, sorted by weight.\n",
    "component = pca_results(azdias_final, pca, 2)\n",
    "print(component)"
   ]
  },
  {
   "cell_type": "code",
   "execution_count": 44,
   "metadata": {},
   "outputs": [
    {
     "name": "stdout",
     "output_type": "stream",
     "text": [
      "ANREDE_KZ                0.3674\n",
      "SEMIO_VERT               0.3447\n",
      "SEMIO_SOZ                0.2619\n",
      "SEMIO_FAM                0.2489\n",
      "SEMIO_KULT               0.2339\n",
      "FINANZ_MINIMALIST        0.1545\n",
      "RETOURTYP_BK_S           0.1090\n",
      "FINANZ_VORSORGER         0.1017\n",
      "W_KEIT_KIND_HH           0.0851\n",
      "ALTERSKATEGORIE_GROB     0.0796\n",
      "SEMIO_REL                0.0677\n",
      "SEMIO_LUST               0.0645\n",
      "SEMIO_MAT                0.0556\n",
      "ORTSGR_KLS9              0.0503\n",
      "EWDICHTE                 0.0495\n",
      "PLZ8_ANTG4               0.0492\n",
      "PLZ8_ANTG3               0.0484\n",
      "GREEN_AVANTGARDE         0.0471\n",
      "ARBEIT                   0.0373\n",
      "RELAT_AB                 0.0343\n",
      "PLZ8_ANTG2               0.0327\n",
      "WOHNDAUER_2008           0.0326\n",
      "WEALTH                   0.0302\n",
      "KBA05_ANTG4              0.0300\n",
      "ANZ_HAUSHALTE_AKTIV      0.0268\n",
      "OST_WEST_KZ              0.0163\n",
      "ANZ_HH_TITEL             0.0139\n",
      "KBA05_ANTG3              0.0119\n",
      "ANZ_TITEL                0.0096\n",
      "PLZ8_HHZ                 0.0056\n",
      "                          ...  \n",
      "LIFE_STAGE              -0.0100\n",
      "ANZ_PERSONEN            -0.0107\n",
      "KKK                     -0.0155\n",
      "HH_EINKOMMEN_SCORE      -0.0164\n",
      "MIN_GEBAEUDEJAHR        -0.0183\n",
      "KBA05_ANTG1             -0.0221\n",
      "KBA13_ANZAHL_PKW        -0.0239\n",
      "MOBI_REGIO              -0.0268\n",
      "KBA05_GBZ               -0.0290\n",
      "GEBAEUDETYP_RASTER      -0.0321\n",
      "HEALTH_TYP              -0.0340\n",
      "BALLRAUM                -0.0372\n",
      "FINANZ_HAUSBAUER        -0.0397\n",
      "PLZ8_GBZ                -0.0405\n",
      "KONSUMNAEHE             -0.0405\n",
      "INNENSTADT              -0.0458\n",
      "MOVEMENT                -0.0471\n",
      "PLZ8_ANTG1              -0.0494\n",
      "ONLINE_AFFINITAET       -0.0557\n",
      "SEMIO_TRADV             -0.0793\n",
      "SEMIO_PFLICHT           -0.0801\n",
      "FINANZ_UNAUFFAELLIGER   -0.1011\n",
      "FINANZ_SPARER           -0.1072\n",
      "DECADE                  -0.1117\n",
      "SEMIO_ERL               -0.1753\n",
      "FINANZ_ANLEGER          -0.1910\n",
      "SEMIO_RAT               -0.2177\n",
      "SEMIO_KRIT              -0.2752\n",
      "SEMIO_DOM               -0.3131\n",
      "SEMIO_KAEM              -0.3351\n",
      "Name: 2, Length: 64, dtype: float64\n"
     ]
    },
    {
     "data": {
      "image/png": "[encoded data removed]",
      "text/plain": [
       "<matplotlib.figure.Figure at 0x7f5f7d697390>"
      ]
     },
     "metadata": {
      "needs_background": "light"
     },
     "output_type": "display_data"
    }
   ],
   "source": [
    "# Map weights for the third principal component to corresponding feature names\n",
    "# and then print the linked values, sorted by weight.\n",
    "\n",
    "component = pca_results(azdias_final, pca, 3)\n",
    "print(component)"
   ]
  },
  {
   "cell_type": "markdown",
   "metadata": {},
   "source": [
    "### Discussion 2.3: Interpret Principal Components\n",
    "\n",
    "(Double-click this cell and replace this text with your own text, reporting your observations from detailed investigation of the first few principal components generated. Can we interpret positive and negative values from them in a meaningful way?)\n",
    "\n",
    "1. Component 1: <br>\n",
    "    The top 3 positive features are `PLZ8_ANTG3`, `PLZ8_ANTG4`, `WEALTH`                 \n",
    "    The top 3 negative features are `FINANZ_MINIMALIST`, `MOBI_REGIO`, `PLZ8_ANTG1`             \n",
    "    These variables basically reflect the family size and financail status. Family size and financail status are correlated since poor people may have to live together to split the rent. `MOBI_REGIO` measures the mobility. Large families are less likely to move.\n",
    "    \n",
    "2. Component 2: <br>\n",
    "    The top 3 positive features are `ALTERSKATEGORIE_GROB`, `SEMIO_ERL`, `FINANZ_VORSORGER`                 \n",
    "    The top 3 negative features are `FINANZ_SPARER`, `DECADE`, `SEMIO_REL`  \n",
    "    These variables reflect age (`ALTERSKATEGORIE_GROB`, `DECADE`), financial status `FINANZ_*`, and some personality aspects (`SEMIO_*`).\n",
    "\n",
    "3. Component 3: <br>\n",
    "    The top 3 positive features are `ANREDE_KZ`, `SEMIO_VERT`, `SEMIO_SOZ`                 \n",
    "    The top 3 negative features are `SEMIO_KRIT`, `SEMIO_DOM`, `SEMIO_KAEM`  \n",
    "    This component mainly reflects the personality (`SEMIO_VERT`, `SEMIO_SOZ`, `SEMIO_KRIT`, `SEMIO_DOM`, `SEMIO_KAEM`) and sex (`ANREDE_KZ`). This makes sense as woman (`ANREDE_KZ` = 2) tends to be less aggressive (low values in `SEMIO_KRIT`, `SEMIO_DOM`, `SEMIO_KAEM`) than man (`ANREDE_KZ` = 1). "
   ]
  },
  {
   "cell_type": "markdown",
   "metadata": {},
   "source": [
    "## Step 3: Clustering\n",
    "\n",
    "### Step 3.1: Apply Clustering to General Population\n",
    "\n",
    "You've assessed and cleaned the demographics data, then scaled and transformed them. Now, it's time to see how the data clusters in the principal components space. In this substep, you will apply k-means clustering to the dataset and use the average within-cluster distances from each point to their assigned cluster's centroid to decide on a number of clusters to keep.\n",
    "\n",
    "- Use sklearn's [KMeans](http://scikit-learn.org/stable/modules/generated/sklearn.cluster.KMeans.html#sklearn.cluster.KMeans) class to perform k-means clustering on the PCA-transformed data.\n",
    "- Then, compute the average difference from each point to its assigned cluster's center. **Hint**: The KMeans object's `.score()` method might be useful here, but note that in sklearn, scores tend to be defined so that larger is better. Try applying it to a small, toy dataset, or use an internet search to help your understanding.\n",
    "- Perform the above two steps for a number of different cluster counts. You can then see how the average distance decreases with an increasing number of clusters. However, each additional cluster provides a smaller net benefit. Use this fact to select a final number of clusters in which to group the data. **Warning**: because of the large size of the dataset, it can take a long time for the algorithm to resolve. The more clusters to fit, the longer the algorithm will take. You should test for cluster counts through at least 10 clusters to get the full picture, but you shouldn't need to test for a number of clusters above about 30.\n",
    "- Once you've selected a final number of clusters to use, re-fit a KMeans instance to perform the clustering operation. Make sure that you also obtain the cluster assignments for the general demographics data, since you'll be using them in the final Step 3.3."
   ]
  },
  {
   "cell_type": "code",
   "execution_count": 46,
   "metadata": {},
   "outputs": [
    {
     "name": "stdout",
     "output_type": "stream",
     "text": [
      "Estimation # 2 completed.\n",
      "Total Elapsed Runtime:  0 mins 10 seconds\n",
      "Estimation # 3 completed.\n",
      "Total Elapsed Runtime:  0 mins 21 seconds\n",
      "Estimation # 4 completed.\n",
      "Total Elapsed Runtime:  0 mins 18 seconds\n",
      "Estimation # 5 completed.\n",
      "Total Elapsed Runtime:  0 mins 24 seconds\n",
      "Estimation # 6 completed.\n",
      "Total Elapsed Runtime:  0 mins 39 seconds\n",
      "Estimation # 7 completed.\n",
      "Total Elapsed Runtime:  0 mins 49 seconds\n",
      "Estimation # 8 completed.\n",
      "Total Elapsed Runtime:  1 mins  7 seconds\n",
      "Estimation # 9 completed.\n",
      "Total Elapsed Runtime:  1 mins  5 seconds\n",
      "Estimation #10 completed.\n",
      "Total Elapsed Runtime:  1 mins 45 seconds\n",
      "Estimation #11 completed.\n",
      "Total Elapsed Runtime:  2 mins 20 seconds\n",
      "Estimation #12 completed.\n",
      "Total Elapsed Runtime:  2 mins 54 seconds\n",
      "Estimation #13 completed.\n",
      "Total Elapsed Runtime:  2 mins 52 seconds\n",
      "Estimation #14 completed.\n",
      "Total Elapsed Runtime:  3 mins 10 seconds\n",
      "Estimation #15 completed.\n",
      "Total Elapsed Runtime:  3 mins  7 seconds\n",
      "Estimation #16 completed.\n",
      "Total Elapsed Runtime:  4 mins  4 seconds\n",
      "Estimation #17 completed.\n",
      "Total Elapsed Runtime:  3 mins 42 seconds\n",
      "Estimation #18 completed.\n",
      "Total Elapsed Runtime:  6 mins 16 seconds\n",
      "Estimation #19 completed.\n",
      "Total Elapsed Runtime:  5 mins 46 seconds\n"
     ]
    }
   ],
   "source": [
    "def get_k_mean_score(data, n):\n",
    "    kmeans = KMeans(n_clusters = n)\n",
    "    model  = kmeans.fit(data)\n",
    "    score  = np.abs(model.score(data))\n",
    "    return score\n",
    "\n",
    "from time import time\n",
    "\n",
    "scores=[]\n",
    "# Over a number of different cluster counts...\n",
    "for n in range(2,21):\n",
    "    # run k-means clustering on the data and...\n",
    "    # compute the average within-cluster distances.\n",
    "    start_time = time()\n",
    "    scores.append(get_k_mean_score(X_pca, n))\n",
    "    end_time   = time()\n",
    "    tot_time   = end_time - start_time\n",
    "    print('Estimation #{:2} completed.'.format(n))\n",
    "    print(\"Total Elapsed Runtime: {:2} mins {:2} seconds\".format(int(tot_time/60), int(tot_time%60)))"
   ]
  },
  {
   "cell_type": "code",
   "execution_count": 48,
   "metadata": {},
   "outputs": [
    {
     "name": "stdout",
     "output_type": "stream",
     "text": [
      "Estimation #20 completed.\n",
      "Total Elapsed Runtime:  5 mins 36 seconds\n"
     ]
    }
   ],
   "source": [
    "# start_time = time()\n",
    "# scores.append(get_k_mean_score(X_pca, 20))\n",
    "# end_time   = time()\n",
    "# tot_time   = end_time - start_time\n",
    "# print('Estimation #{:2} completed.'.format(20))\n",
    "# print(\"Total Elapsed Runtime: {:2} mins {:2} seconds\".format(int(tot_time/60), int(tot_time%60)))"
   ]
  },
  {
   "cell_type": "code",
   "execution_count": 51,
   "metadata": {},
   "outputs": [
    {
     "data": {
      "text/plain": [
       "Text(0,0.5,'Score')"
      ]
     },
     "execution_count": 51,
     "metadata": {},
     "output_type": "execute_result"
    },
    {
     "data": {
      "image/png": "[encoded data removed]",
      "text/plain": [
       "<matplotlib.figure.Figure at 0x7f06bf5c8cc0>"
      ]
     },
     "metadata": {
      "needs_background": "light"
     },
     "output_type": "display_data"
    }
   ],
   "source": [
    "# Investigate the change in within-cluster distance across number of clusters.\n",
    "# HINT: Use matplotlib's plot function to visualize this relationship.\n",
    "plt.plot(range(2,21), scores, marker='o', linestyle='-')\n",
    "plt.xlabel('number of clusters')\n",
    "plt.ylabel('Score')"
   ]
  },
  {
   "cell_type": "code",
   "execution_count": 45,
   "metadata": {},
   "outputs": [],
   "source": [
    "# Re-fit the k-means model with the selected number of clusters and obtain\n",
    "# cluster predictions for the general population demographics data.\n",
    "kmeans = KMeans(n_clusters = 20)\n",
    "model  = kmeans.fit(X_pca)\n",
    "X_pca_pred = model.predict(X_pca)"
   ]
  },
  {
   "cell_type": "code",
   "execution_count": 75,
   "metadata": {},
   "outputs": [
    {
     "data": {
      "text/plain": [
       "<matplotlib.axes._subplots.AxesSubplot at 0x7f5f7d7ac438>"
      ]
     },
     "execution_count": 75,
     "metadata": {},
     "output_type": "execute_result"
    },
    {
     "data": {
      "image/png": "[encoded data removed]",
      "text/plain": [
       "<matplotlib.figure.Figure at 0x7f5f7d7ac3c8>"
      ]
     },
     "metadata": {
      "needs_background": "light"
     },
     "output_type": "display_data"
    }
   ],
   "source": [
    "sb.countplot(X_pca_pred)"
   ]
  },
  {
   "cell_type": "code",
   "execution_count": 78,
   "metadata": {},
   "outputs": [
    {
     "data": {
      "text/plain": [
       "7     54503\n",
       "12    52523\n",
       "2     49463\n",
       "4     49453\n",
       "8     46792\n",
       "18    46760\n",
       "3     46214\n",
       "16    45841\n",
       "9     45126\n",
       "6     42536\n",
       "14    39344\n",
       "17    39171\n",
       "1     38541\n",
       "15    36923\n",
       "10    31925\n",
       "5     30248\n",
       "19    29455\n",
       "11    26015\n",
       "13    25222\n",
       "0     21782\n",
       "dtype: int64"
      ]
     },
     "execution_count": 78,
     "metadata": {},
     "output_type": "execute_result"
    }
   ],
   "source": [
    "pd.Series(X_pca_pred).value_counts()"
   ]
  },
  {
   "cell_type": "markdown",
   "metadata": {},
   "source": [
    "### Discussion 3.1: Apply Clustering to General Population\n",
    "\n",
    "The \"elbow\" principle does not work well here. I select n = 20."
   ]
  },
  {
   "cell_type": "markdown",
   "metadata": {},
   "source": [
    "### Step 3.2: Apply All Steps to the Customer Data\n",
    "\n",
    "Now that you have clusters and cluster centers for the general population, it's time to see how the customer data maps on to those clusters. Take care to not confuse this for re-fitting all of the models to the customer data. Instead, you're going to use the fits from the general population to clean, transform, and cluster the customer data. In the last step of the project, you will interpret how the general population fits apply to the customer data.\n",
    "\n",
    "- Don't forget when loading in the customers data, that it is semicolon (`;`) delimited.\n",
    "- Apply the same feature wrangling, selection, and engineering steps to the customer demographics using the `clean_data()` function you created earlier. (You can assume that the customer demographics data has similar meaning behind missing data patterns as the general demographics data.)\n",
    "- Use the sklearn objects from the general demographics data, and apply their transformations to the customers data. That is, you should not be using a `.fit()` or `.fit_transform()` method to re-fit the old objects, nor should you be creating new sklearn objects! Carry the data through the feature scaling, PCA, and clustering steps, obtaining cluster assignments for all of the data in the customer demographics data."
   ]
  },
  {
   "cell_type": "code",
   "execution_count": 79,
   "metadata": {},
   "outputs": [
    {
     "name": "stdout",
     "output_type": "stream",
     "text": [
      "(141690, 64)\n"
     ]
    }
   ],
   "source": [
    "# Load in the customer demographics data.\n",
    "customers       = pd.read_csv('Udacity_CUSTOMERS_Subset.csv', sep=';')\n",
    "customers_clean = clean_data(customers)\n",
    "print(customers_clean.shape)"
   ]
  },
  {
   "cell_type": "code",
   "execution_count": 80,
   "metadata": {},
   "outputs": [
    {
     "name": "stdout",
     "output_type": "stream",
     "text": [
      "True\n"
     ]
    },
    {
     "data": {
      "text/plain": [
       "103735"
      ]
     },
     "execution_count": 80,
     "metadata": {},
     "output_type": "execute_result"
    }
   ],
   "source": [
    "print(set(azdias_final.columns) == set(customers_clean.columns))\n",
    "customers_clean.isnull().sum().sum()"
   ]
  },
  {
   "cell_type": "code",
   "execution_count": 81,
   "metadata": {},
   "outputs": [],
   "source": [
    "# Apply preprocessing, feature transformation, and clustering from the general\n",
    "# demographics onto the customer data, obtaining cluster predictions for the\n",
    "# customer demographics data.\n",
    "customers_clean    = imputer.transform(customers_clean)\n",
    "customers_clean    = scaler.transform(customers_clean)"
   ]
  },
  {
   "cell_type": "code",
   "execution_count": 82,
   "metadata": {},
   "outputs": [],
   "source": [
    "customers_pca      = pca.transform(customers_clean)\n",
    "customers_pca_pred = model.predict(customers_pca)"
   ]
  },
  {
   "cell_type": "code",
   "execution_count": 83,
   "metadata": {},
   "outputs": [
    {
     "data": {
      "text/plain": [
       "6     48440\n",
       "16    18905\n",
       "17    17575\n",
       "12    10273\n",
       "9      7603\n",
       "7      7356\n",
       "2      5153\n",
       "5      4614\n",
       "10     4577\n",
       "18     4294\n",
       "0      3460\n",
       "1      2104\n",
       "3      1502\n",
       "15     1453\n",
       "14     1311\n",
       "4      1022\n",
       "8       853\n",
       "19      704\n",
       "13      320\n",
       "11      171\n",
       "dtype: int64"
      ]
     },
     "execution_count": 83,
     "metadata": {},
     "output_type": "execute_result"
    }
   ],
   "source": [
    "pd.Series(customers_pca_pred).value_counts()"
   ]
  },
  {
   "cell_type": "code",
   "execution_count": 84,
   "metadata": {},
   "outputs": [
    {
     "data": {
      "text/plain": [
       "<matplotlib.axes._subplots.AxesSubplot at 0x7f5f7d7616d8>"
      ]
     },
     "execution_count": 84,
     "metadata": {},
     "output_type": "execute_result"
    },
    {
     "data": {
      "image/png": "[encoded data removed]",
      "text/plain": [
       "<matplotlib.figure.Figure at 0x7f5f7d797ba8>"
      ]
     },
     "metadata": {
      "needs_background": "light"
     },
     "output_type": "display_data"
    }
   ],
   "source": [
    "sb.countplot(customers_pca_pred)"
   ]
  },
  {
   "cell_type": "markdown",
   "metadata": {},
   "source": [
    "### Step 3.3: Compare Customer Data to Demographics Data\n",
    "\n",
    "At this point, you have clustered data based on demographics of the general population of Germany, and seen how the customer data for a mail-order sales company maps onto those demographic clusters. In this final substep, you will compare the two cluster distributions to see where the strongest customer base for the company is.\n",
    "\n",
    "Consider the proportion of persons in each cluster for the general population, and the proportions for the customers. If we think the company's customer base to be universal, then the cluster assignment proportions should be fairly similar between the two. If there are only particular segments of the population that are interested in the company's products, then we should see a mismatch from one to the other. If there is a higher proportion of persons in a cluster for the customer data compared to the general population (e.g. 5% of persons are assigned to a cluster for the general population, but 15% of the customer data is closest to that cluster's centroid) then that suggests the people in that cluster to be a target audience for the company. On the other hand, the proportion of the data in a cluster being larger in the general population than the customer data (e.g. only 2% of customers closest to a population centroid that captures 6% of the data) suggests that group of persons to be outside of the target demographics.\n",
    "\n",
    "Take a look at the following points in this step:\n",
    "\n",
    "- Compute the proportion of data points in each cluster for the general population and the customer data. Visualizations will be useful here: both for the individual dataset proportions, but also to visualize the ratios in cluster representation between groups. Seaborn's [`countplot()`](https://seaborn.pydata.org/generated/seaborn.countplot.html) or [`barplot()`](https://seaborn.pydata.org/generated/seaborn.barplot.html) function could be handy.\n",
    "  - Recall the analysis you performed in step 1.1.3 of the project, where you separated out certain data points from the dataset if they had more than a specified threshold of missing values. If you found that this group was qualitatively different from the main bulk of the data, you should treat this as an additional data cluster in this analysis. Make sure that you account for the number of data points in this subset, for both the general population and customer datasets, when making your computations!\n",
    "- Which cluster or clusters are overrepresented in the customer dataset compared to the general population? Select at least one such cluster and infer what kind of people might be represented by that cluster. Use the principal component interpretations from step 2.3 or look at additional components to help you make this inference. Alternatively, you can use the `.inverse_transform()` method of the PCA and StandardScaler objects to transform centroids back to the original data space and interpret the retrieved values directly.\n",
    "- Perform a similar investigation for the underrepresented clusters. Which cluster or clusters are underrepresented in the customer dataset compared to the general population, and what kinds of people are typified by these clusters?"
   ]
  },
  {
   "cell_type": "code",
   "execution_count": 85,
   "metadata": {},
   "outputs": [
    {
     "data": {
      "text/plain": [
       "Text(0.5,1,'Customer Clusters')"
      ]
     },
     "execution_count": 85,
     "metadata": {},
     "output_type": "execute_result"
    },
    {
     "data": {
      "image/png": "[encoded data removed]",
      "text/plain": [
       "<matplotlib.figure.Figure at 0x7f5f7d5c53c8>"
      ]
     },
     "metadata": {
      "needs_background": "light"
     },
     "output_type": "display_data"
    }
   ],
   "source": [
    "# Compare the proportion of data in each cluster for the customer data to the\n",
    "# proportion of data in each cluster for the general population.\n",
    "figure, axs = plt.subplots(nrows=1, ncols=2, figsize = (16,4))\n",
    "\n",
    "sb.countplot(X_pca_pred, ax=axs[0])\n",
    "axs[0].set_title('General Clusters')\n",
    "\n",
    "sb.countplot(customers_pca_pred, ax=axs[1])\n",
    "axs[1].set_title('Customer Clusters')"
   ]
  },
  {
   "cell_type": "markdown",
   "metadata": {},
   "source": [
    "Adding those who were dropped as **Cluster 20**"
   ]
  },
  {
   "cell_type": "code",
   "execution_count": 86,
   "metadata": {},
   "outputs": [],
   "source": [
    "customer_cluster = pd.Series(customers_pca_pred).value_counts()\n",
    "customer_cluster.sort_index(inplace=True)\n",
    "customer_cluster[20] = len(customers) - len(customers_pca_pred)\n",
    "\n",
    "general_cluster = pd.Series(X_pca_pred).value_counts()\n",
    "general_cluster.sort_index(inplace=True)\n",
    "general_cluster[20] = len(azdias) - len(X_pca_pred)"
   ]
  },
  {
   "cell_type": "code",
   "execution_count": 87,
   "metadata": {},
   "outputs": [
    {
     "data": {
      "text/plain": [
       "Text(0.5,1,'Customer Clusters')"
      ]
     },
     "execution_count": 87,
     "metadata": {},
     "output_type": "execute_result"
    },
    {
     "data": {
      "image/png": "[encoded data removed]",
      "text/plain": [
       "<matplotlib.figure.Figure at 0x7f5f83f39208>"
      ]
     },
     "metadata": {
      "needs_background": "light"
     },
     "output_type": "display_data"
    }
   ],
   "source": [
    "figure, axs = plt.subplots(nrows=1, ncols=2, figsize = (16,4))\n",
    "\n",
    "general_cluster.plot(kind='bar',ax=axs[0])\n",
    "axs[0].set_title('General Clusters')\n",
    "\n",
    "customer_cluster.plot(kind='bar',ax=axs[1])\n",
    "axs[1].set_title('Customer Clusters')"
   ]
  },
  {
   "cell_type": "code",
   "execution_count": 88,
   "metadata": {},
   "outputs": [
    {
     "data": {
      "text/plain": [
       "6     113.880008\n",
       "20     53.501671\n",
       "17     44.867376\n",
       "16     41.240374\n",
       "12     19.559050\n",
       "9      16.848380\n",
       "0      15.884675\n",
       "5      15.253901\n",
       "10     14.336727\n",
       "7      13.496505\n",
       "2      10.417888\n",
       "18      9.183062\n",
       "1       5.459121\n",
       "15      3.935217\n",
       "14      3.332147\n",
       "3       3.250097\n",
       "19      2.390087\n",
       "4       2.066609\n",
       "8       1.822961\n",
       "13      1.268734\n",
       "11      0.657313\n",
       "dtype: float64"
      ]
     },
     "execution_count": 88,
     "metadata": {},
     "output_type": "execute_result"
    }
   ],
   "source": [
    "representation_rate = pd.Series([ x/y*100 for x,y in zip(customer_cluster, general_cluster)])\n",
    "representation_rate.sort_values(ascending=False)"
   ]
  },
  {
   "cell_type": "markdown",
   "metadata": {},
   "source": [
    "It can be seen that \n",
    "- cluster 6 is the most overrepresented and \n",
    "- cluster 11 is the most underrepresented"
   ]
  },
  {
   "cell_type": "code",
   "execution_count": 89,
   "metadata": {},
   "outputs": [
    {
     "name": "stdout",
     "output_type": "stream",
     "text": [
      "Top three below/above average features:\n",
      "---------------------------------------\n",
      "FINANZ_SPARER       -1.049846\n",
      "SEMIO_KAEM          -0.996656\n",
      "EWDICHTE            -0.994954\n",
      "FINANZ_VORSORGER     0.926631\n",
      "SEMIO_VERT           0.936328\n",
      "FINANZ_MINIMALIST    1.164847\n",
      "dtype: float64\n"
     ]
    }
   ],
   "source": [
    "# What kinds of people are part of a cluster that is overrepresented in the\n",
    "# customer data compared to the general population?\n",
    "\n",
    "# group6 = scaler.inverse_transform(pca.inverse_transform(model.cluster_centers_[6]))\n",
    "\n",
    "### keeping scaled helps indentify its relative position in the population \n",
    "group6 = pca.inverse_transform(model.cluster_centers_[6])\n",
    "group6 = pd.Series(group6, index = azdias_clean.columns).sort_values()\n",
    "print(\"Top three below/above average features:\")\n",
    "print(\"---------------------------------------\")\n",
    "print(group6[[0,1,2,-3,-2,-1]])"
   ]
  },
  {
   "cell_type": "code",
   "execution_count": 90,
   "metadata": {},
   "outputs": [
    {
     "name": "stdout",
     "output_type": "stream",
     "text": [
      "Top three below/above average features:\n",
      "---------------------------------------\n",
      "MOVEMENT             -1.261206\n",
      "HH_EINKOMMEN_SCORE   -1.088987\n",
      "ANREDE_KZ            -0.983458\n",
      "ONLINE_AFFINITAET     1.034217\n",
      "SEMIO_DOM             1.064746\n",
      "GREEN_AVANTGARDE      1.261206\n",
      "dtype: float64\n"
     ]
    }
   ],
   "source": [
    "# What kinds of people are part of a cluster that is underrepresented in the\n",
    "# customer data compared to the general population?\n",
    "\n",
    "# group11 = scaler.inverse_transform(pca.inverse_transform(model.cluster_centers_[11]))\n",
    "\n",
    "### keeping scaled helps indentify its relative position in the population \n",
    "group11 = pca.inverse_transform(model.cluster_centers_[11])\n",
    "group11 = pd.Series(group11, index = azdias_clean.columns).sort_values()\n",
    "print(\"Top three below/above average features:\")\n",
    "print(\"---------------------------------------\")\n",
    "print(group11[[0,1,2,-3,-2,-1]])"
   ]
  },
  {
   "cell_type": "markdown",
   "metadata": {},
   "source": [
    "### Discussion 3.3: Compare Customer Data to Demographics Data\n",
    "\n",
    "- cluster  6 is the most overrepresented\n",
    "    - compared to the population, it has low \n",
    "        1. `FINANZ_SPARER`, i.e. high saver\n",
    "        2. `SEMIO_KAEM`, i.e. not combative\n",
    "        3. `EWDICHTE`, i.e. living in a area with low population density\n",
    "    - compared to the population, it has high \n",
    "        1. `FINANZ_VORSORGER`, i.e. financially not prepared\n",
    "        2. `SEMIO_VERT`, i.e. very dreamful\n",
    "        3. `FINANZ_MINIMALIST`. i.e. very low financial interest\n",
    "- cluster 11 is the most underrepresented\n",
    "    - compared to the population, it has low \n",
    "        1. `MOVEMENT`, i.e. more likely to be Avantgarde\n",
    "        2. `HH_EINKOMMEN_SCORE`, i.e. high income\n",
    "        3. `ANREDE_KZ`, i.e. male\n",
    "    - compared to the population, it has high \n",
    "        1. `ONLINE_AFFINITAET`, \n",
    "        2. `SEMIO_DOM`, i.e. very dominant-minded\n",
    "        3. `GREEN_AVANTGARDE`, i.e. likely to be a member of green avantgarde"
   ]
  },
  {
   "cell_type": "markdown",
   "metadata": {},
   "source": [
    "> Congratulations on making it this far in the project! Before you finish, make sure to check through the entire notebook from top to bottom to make sure that your analysis follows a logical flow and all of your findings are documented in **Discussion** cells. Once you've checked over all of your work, you should export the notebook as an HTML document to submit for evaluation. You can do this from the menu, navigating to **File -> Download as -> HTML (.html)**. You will submit both that document and this notebook for your project submission."
   ]
  },
  {
   "cell_type": "code",
   "execution_count": null,
   "metadata": {},
   "outputs": [],
   "source": []
  }
 ],
 "metadata": {
  "kernelspec": {
   "display_name": "Python 3",
   "language": "python",
   "name": "python3"
  },
  "language_info": {
   "codemirror_mode": {
    "name": "ipython",
    "version": 3
   },
   "file_extension": ".py",
   "mimetype": "text/x-python",
   "name": "python",
   "nbconvert_exporter": "python",
   "pygments_lexer": "ipython3",
   "version": "3.7.6"
  }
 },
 "nbformat": 4,
 "nbformat_minor": 2
}
